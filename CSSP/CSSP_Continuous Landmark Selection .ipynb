{
 "cells": [
  {
   "cell_type": "code",
   "execution_count": 1,
   "id": "7ecef139",
   "metadata": {},
   "outputs": [],
   "source": [
    "import numpy as np\n",
    "import pandas as pd\n",
    "import matplotlib.pyplot as plt"
   ]
  },
  {
   "cell_type": "markdown",
   "id": "5c6be504",
   "metadata": {},
   "source": [
    "### Define Projection Matrix for continious optimization"
   ]
  },
  {
   "cell_type": "code",
   "execution_count": 2,
   "id": "2315fe0d",
   "metadata": {},
   "outputs": [],
   "source": [
    "def Projection_matrix(X, t, delta):\n",
    "    T0 = np.diag(t)\n",
    "    convex1 = T0 @ X.T @ X @ T0\n",
    "    I = np.eye(T0.shape[0])\n",
    "    convex2 =  delta * (I - T0 @ T0)\n",
    "    p_term = convex1 + convex2\n",
    "    Pt = X @ T0 @ np.linalg.inv(p_term) @ T0 @ X.T\n",
    "    return Pt"
   ]
  },
  {
   "cell_type": "markdown",
   "id": "b4da5c32",
   "metadata": {},
   "source": [
    "### Objective function or the Lagrangian"
   ]
  },
  {
   "cell_type": "code",
   "execution_count": 3,
   "id": "35597d68",
   "metadata": {},
   "outputs": [],
   "source": [
    "def objective(X, t, delta, lambda_):\n",
    "    Pt = Projection_matrix(X, t, delta)\n",
    "    trace_term = -np.trace(X.T @ Pt @ X)\n",
    "    regularization_term = lambda_ * np.sum(t)\n",
    "    return trace_term + regularization_term"
   ]
  },
  {
   "cell_type": "markdown",
   "id": "c53841f9",
   "metadata": {},
   "source": [
    "### Computing the matrices required for gradient"
   ]
  },
  {
   "cell_type": "code",
   "execution_count": 4,
   "id": "5f3e2755",
   "metadata": {},
   "outputs": [],
   "source": [
    "def compute_matrices(X, t, delta):\n",
    "    T0 = np.diag(t)\n",
    "    K = X.T @ X\n",
    "    Z = K - delta * np.eye(K.shape[0])\n",
    "    Lt = T0 @ Z @ T0 + delta * np.eye(T0.shape[0])\n",
    "    return K, Z, Lt, T0\n",
    "\n",
    "def compute_phi(X, t, delta, lambda_, M):\n",
    "    K, Z, Lt, T0 = compute_matrices(X, t, delta)\n",
    "    phi_samples = []\n",
    "    for _ in range(M):\n",
    "        # Rademacher distribution\n",
    "        z = np.random.choice([-1, 1], size=(K.shape[0],))  \n",
    "        a = K @ z\n",
    "        b = np.linalg.inv(Lt) * (t * a)  # Element-wise multiplication\n",
    "        phi = (b * (Z @ (t * b))) - (a * b)  \n",
    "        phi_samples.append(phi)\n",
    "    phi_mean = np.mean(phi_samples, axis=0)\n",
    "    return phi_mean"
   ]
  },
  {
   "cell_type": "markdown",
   "id": "f99e24bd",
   "metadata": {},
   "source": [
    "### Computing gradient using Monte Carlo size M approximation"
   ]
  },
  {
   "cell_type": "code",
   "execution_count": 5,
   "id": "cba3ce12",
   "metadata": {},
   "outputs": [],
   "source": [
    "def gradient(X, t, delta, lambda_, M):\n",
    "    phi_mean = compute_phi(X, t, delta, lambda_, M)\n",
    "    gradient = 2 * (1 / M) * phi_mean + lambda_ * np.eye(X.shape[1])\n",
    "    return np.diag(gradient)"
   ]
  },
  {
   "cell_type": "code",
   "execution_count": null,
   "id": "dde8c56f",
   "metadata": {},
   "outputs": [],
   "source": []
  },
  {
   "cell_type": "markdown",
   "id": "5ff91027",
   "metadata": {},
   "source": [
    "### Non linear transformation from t to w"
   ]
  },
  {
   "cell_type": "code",
   "execution_count": 6,
   "id": "7aeebd4e",
   "metadata": {},
   "outputs": [],
   "source": [
    "def t_to_w(t):\n",
    "    return np.sqrt(-np.log(1 - t))\n",
    "\n",
    "def w_to_t(w):\n",
    "    return 1 - np.exp(-(w**2))"
   ]
  },
  {
   "cell_type": "markdown",
   "id": "77b812f7",
   "metadata": {},
   "source": [
    "### Gradient Descent Algorithm"
   ]
  },
  {
   "cell_type": "code",
   "execution_count": 7,
   "id": "6ec23012",
   "metadata": {},
   "outputs": [],
   "source": [
    "def gradient_descent(X, w_init, delta, lambda_, learning_rate, max_iter, M):\n",
    "    w = w_init\n",
    "    \n",
    "    for i in range(max_iter):\n",
    "        grad = gradient(X, w, delta, lambda_, M)\n",
    "        w -= learning_rate * grad\n",
    "        t = w_to_t(w)\n",
    "        \n",
    "        if i % 100 == 0:\n",
    "            print(f\"Iteration {i}: t = {t}\")\n",
    "            print(\"\\n\")\n",
    "            print(f\"Iteration{i}: Objective Value={objective(X, w, delta, lambda_)}\")\n",
    "            print(\"\\n\")\n",
    "        \n",
    "    return w"
   ]
  },
  {
   "cell_type": "markdown",
   "id": "9acd0cb4",
   "metadata": {},
   "source": [
    "### Optimal value of t for small dataset "
   ]
  },
  {
   "cell_type": "code",
   "execution_count": 25,
   "id": "94c074f7",
   "metadata": {},
   "outputs": [
    {
     "name": "stdout",
     "output_type": "stream",
     "text": [
      "Iteration 0: t = [0.50250896 0.57186874 0.50147198 0.50001565 0.4999988  0.53893489\n",
      " 0.56105114 0.57281518 0.52993947 0.57033448 0.57815865 0.52373797\n",
      " 0.53287367 0.50827644 0.51347086 0.50017448]\n",
      "\n",
      "\n",
      "Iteration0: Objective Value=-379159.6157963624\n",
      "\n",
      "\n",
      "Iteration 100: t = [1.         1.         1.         0.99999992 0.49377481 1.\n",
      " 1.         1.         1.         1.         1.         1.\n",
      " 1.         1.         1.         1.        ]\n",
      "\n",
      "\n",
      "Iteration100: Objective Value=-379113.5555219474\n",
      "\n",
      "\n",
      "Iteration 200: t = [1.         1.         0.99999999 0.99989732 0.48741005 1.\n",
      " 1.         1.         1.         1.         1.         1.\n",
      " 1.         1.         1.         1.        ]\n",
      "\n",
      "\n",
      "Iteration200: Objective Value=-379591.6809315111\n",
      "\n",
      "\n",
      "Iteration 300: t = [0.78335331 1.         0.5543835  0.9558786  0.48116245 1.\n",
      " 1.         1.         1.         1.         1.         1.\n",
      " 1.         0.8783644  0.97759938 1.        ]\n",
      "\n",
      "\n",
      "Iteration300: Objective Value=-379528.30315875536\n",
      "\n",
      "\n",
      "Iteration 400: t = [1.         1.         0.04663702 0.95750762 0.47498433 1.\n",
      " 1.         1.         1.         1.         1.         1.\n",
      " 1.         1.         1.         1.        ]\n",
      "\n",
      "\n",
      "Iteration400: Objective Value=-378711.20110135135\n",
      "\n",
      "\n",
      "Iteration 500: t = [1.         1.         1.         0.35850248 0.46857607 1.\n",
      " 1.         1.         1.         1.         1.         1.\n",
      " 1.         1.         1.         1.        ]\n",
      "\n",
      "\n",
      "Iteration500: Objective Value=-378947.4976404081\n",
      "\n",
      "\n",
      "Iteration 600: t = [1.         1.         1.         0.99725729 0.46207061 1.\n",
      " 0.99998243 1.         1.         1.         1.         1.\n",
      " 1.         1.         1.         1.        ]\n",
      "\n",
      "\n",
      "Iteration600: Objective Value=-379749.06720183155\n",
      "\n",
      "\n",
      "Iteration 700: t = [1.         1.         1.         0.42232177 0.45564902 1.\n",
      " 1.         1.         1.         1.         1.         1.\n",
      " 1.         1.         1.         1.        ]\n",
      "\n",
      "\n",
      "Iteration700: Objective Value=-380082.9534080703\n",
      "\n",
      "\n",
      "Iteration 800: t = [1.         1.         1.         0.9417145  0.44914618 1.\n",
      " 1.         1.         1.         1.         1.         1.\n",
      " 1.         1.         1.         1.        ]\n",
      "\n",
      "\n",
      "Iteration800: Objective Value=-379735.3868441112\n",
      "\n",
      "\n",
      "Iteration 900: t = [1.         1.         1.         0.76054307 0.44289389 1.\n",
      " 1.         1.         1.         1.         1.         1.\n",
      " 1.         0.98656596 1.         1.        ]\n",
      "\n",
      "\n",
      "Iteration900: Objective Value=-379825.0913921299\n",
      "\n",
      "\n",
      "Optimized w: [-1.70201210e+00 -2.65888400e+03 -1.00321640e+01  5.29194554e-02\n",
      "  7.57497850e-01 -3.32618984e+02 -1.06500689e+02 -7.19311654e+01\n",
      " -3.31174268e+01  1.34168259e+03  7.07885995e+02  3.93761854e+00\n",
      " -1.97700816e+02  1.50824180e+01  7.16051925e+01  1.08733246e+03]\n",
      "\n",
      "\n",
      "Optimized t: [0.94480292 1.         1.         0.00279655 0.43662117 1.\n",
      " 1.         1.         1.         1.         1.         0.99999982\n",
      " 1.         1.         1.         1.        ]\n"
     ]
    }
   ],
   "source": [
    "np.random.seed(0)\n",
    "# Import data (small dataset)\n",
    "df = pd.read_csv(\"D2XL1.csv\")\n",
    "X = df.values \n",
    "\n",
    "n = X.shape[1]  \n",
    "m = X.shape[0]  \n",
    "\n",
    "# Initialize t and w\n",
    "t_init = np.full(n, 0.5)  \n",
    "w_init = np.sqrt(-np.log(1 - t_init))\n",
    "\n",
    "# Constants\n",
    "delta = 1\n",
    "lambda_ = 1\n",
    "learning_rate = 0.00001\n",
    "max_iter = 1000\n",
    "M = 5  # Monte Carlo sample size\n",
    "\n",
    "# Optimized w and t using gradient descent\n",
    "optimized_w = gradient_descent(X, w_init, delta, lambda_, learning_rate, max_iter, M)\n",
    "print(\"Optimized w:\", optimized_w)\n",
    "print(\"\\n\")\n",
    "print(\"Optimized t:\", w_to_t(optimized_w))"
   ]
  },
  {
   "cell_type": "code",
   "execution_count": 9,
   "id": "fbf1a230",
   "metadata": {},
   "outputs": [
    {
     "data": {
      "text/plain": [
       "\"\\nNote that the t[i]'s with value less than 0.5 are the i'th columns of X to be dropped. \\nIn general we can  define a threshold for which t[i] < threshold implies the above. \\nIn the paper they have taken this threshold value as 0.5. \\nSo our final result of optimized t tells us to drop columns 4 and 5, or the two correlated columns. \\n\\nThe values of lambda and delta depends on data. The paper mentions d = 1 as optimal, and do a grid search for value of lambda. \\n\\n\""
      ]
     },
     "execution_count": 9,
     "metadata": {},
     "output_type": "execute_result"
    }
   ],
   "source": [
    "\"\"\"\n",
    "Note that the t[i]'s with value less than 0.5 are the i'th columns of X to be dropped. \n",
    "In general we can  define a threshold for which t[i] < threshold implies the above. \n",
    "In the paper they have taken this threshold value as 0.5. \n",
    "So our final result of optimized t tells us to drop columns 4 and 5, or the two correlated columns. \n",
    "\n",
    "The values of lambda and delta depends on data. The paper mentions d = 1 as optimal, and do a grid search for value of lambda. \n",
    "\n",
    "\"\"\"\n"
   ]
  },
  {
   "cell_type": "markdown",
   "id": "6db2c56c",
   "metadata": {},
   "source": [
    "### Hyper parameter tuning for lambda"
   ]
  },
  {
   "cell_type": "code",
   "execution_count": 19,
   "id": "7e767eb6",
   "metadata": {},
   "outputs": [
    {
     "data": {
      "image/png": "[encoded data removed]",
      "text/plain": [
       "<Figure size 1000x600 with 1 Axes>"
      ]
     },
     "metadata": {},
     "output_type": "display_data"
    }
   ],
   "source": [
    "def grid_search(X, w_init, delta, lambdas, learning_rate, max_iter, M):\n",
    "    results = []\n",
    "    for lambda_ in lambdas:\n",
    "        obj_value = objective(X, optimized_w, delta, lambda_)  \n",
    "        results.append((lambda_, obj_value))\n",
    "    return results\n",
    "\n",
    "lambda_values = np.logspace(-5, 0, 20)\n",
    "\n",
    "results = grid_search(X, w_init, delta, lambda_values, learning_rate, max_iter, M)\n",
    "\n",
    "lambdas, objective_values = zip(*results)\n",
    "plt.figure(figsize=(10, 6))\n",
    "plt.semilogx(lambdas, objective_values, marker='o')\n",
    "plt.xlabel('Lambda')\n",
    "plt.ylabel('Objective Value')\n",
    "plt.title('Grid Search Results')\n",
    "plt.grid(True)\n",
    "plt.show()"
   ]
  },
  {
   "cell_type": "code",
   "execution_count": null,
   "id": "80456066",
   "metadata": {},
   "outputs": [],
   "source": [
    "\"\"\"\n",
    "Lambda = 1 seems optimal from the figure\n",
    "\"\"\""
   ]
  },
  {
   "cell_type": "code",
   "execution_count": null,
   "id": "82b22521",
   "metadata": {},
   "outputs": [],
   "source": [
    "d"
   ]
  },
  {
   "cell_type": "code",
   "execution_count": null,
   "id": "a29ce1fb",
   "metadata": {},
   "outputs": [],
   "source": []
  },
  {
   "cell_type": "code",
   "execution_count": null,
   "id": "cefa342b",
   "metadata": {},
   "outputs": [],
   "source": []
  }
 ],
 "metadata": {
  "kernelspec": {
   "display_name": "Python 3 (ipykernel)",
   "language": "python",
   "name": "python3"
  },
  "language_info": {
   "codemirror_mode": {
    "name": "ipython",
    "version": 3
   },
   "file_extension": ".py",
   "mimetype": "text/x-python",
   "name": "python",
   "nbconvert_exporter": "python",
   "pygments_lexer": "ipython3",
   "version": "3.11.4"
  }
 },
 "nbformat": 4,
 "nbformat_minor": 5
}
