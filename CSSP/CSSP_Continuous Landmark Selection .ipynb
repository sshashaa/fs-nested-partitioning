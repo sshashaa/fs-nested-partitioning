{
 "cells": [
  {
   "cell_type": "code",
   "execution_count": 1,
   "id": "e67873f7",
   "metadata": {},
   "outputs": [],
   "source": [
    "import numpy as np\n",
    "import pandas as pd\n",
    "import matplotlib.pyplot as plt"
   ]
  },
  {
   "cell_type": "code",
   "execution_count": 2,
   "id": "46ac11fe",
   "metadata": {},
   "outputs": [
    {
     "data": {
      "text/plain": [
       "'\\nCSSP via continious optimization as done in the paper (Moka et al., 2023).\\n\\nThe definitions of the terms are as follows:\\n\\nX : The original data matrix (m,n) over which we apply CSSP to drop the columns. Here X is the small dataset comprising of\\n3 main columns, 2 correlated columns, 10 error columns and the y vector. \\n\\n\\ndelta : Fixed constant (parameter to control the penalized term in projection matrix)\\n\\n\\nt : The column (n,1), each element between 0 and 1 (continious). Getting a value less than threshold value (0.5 in paper)\\nindicates the column can be dropped. \\n\\n\\nw : Non linear transform from t, (-log(1-t)) to make the optimization problem unconstrained.\\n\\n\\nlambda_ : Regularization parameter.\\n\\n\\nM : Monte Carlo size, used for approximation during gradient calculation, reducing computational complexity. In paper, M = 10. \\n\\n\\nmax_iter : Iterations done for gradient descent algorithm. \\n\\n\\nGradient descent algorithm is used to solve the optimization problem.\\n\\n'"
      ]
     },
     "execution_count": 2,
     "metadata": {},
     "output_type": "execute_result"
    }
   ],
   "source": [
    "\"\"\"\n",
    "CSSP via continious optimization as done in the paper (Moka et al., 2023).\n",
    "\n",
    "The definitions of the terms are as follows:\n",
    "\n",
    "X : The original data matrix (m,n) over which we apply CSSP to drop the columns. Here X is the small dataset comprising of\n",
    "3 main columns, 2 correlated columns, 10 error columns and the y vector. \n",
    "\n",
    "\n",
    "delta : Fixed constant (parameter to control the penalized term in projection matrix)\n",
    "\n",
    "\n",
    "t : The column (n,1), each element between 0 and 1 (continious). Getting a value less than threshold value (0.5 in paper)\n",
    "indicates the column can be dropped. \n",
    "\n",
    "\n",
    "w : Non linear transform from t, (-log(1-t)) to make the optimization problem unconstrained.\n",
    "\n",
    "\n",
    "lambda_ : Regularization parameter.\n",
    "\n",
    "\n",
    "M : Monte Carlo size, used for approximation during gradient calculation, reducing computational complexity. In paper, M = 10. \n",
    "\n",
    "\n",
    "max_iter : Iterations done for gradient descent algorithm. \n",
    "\n",
    "\n",
    "Gradient descent algorithm is used to solve the optimization problem.\n",
    "\n",
    "\"\"\""
   ]
  },
  {
   "cell_type": "markdown",
   "id": "442fc3c8",
   "metadata": {},
   "source": [
    "### Define Projection Matrix for continious optimization"
   ]
  },
  {
   "cell_type": "code",
   "execution_count": 3,
   "id": "3eaa23de",
   "metadata": {},
   "outputs": [],
   "source": [
    "def Projection_matrix(X, t, delta):\n",
    "    T0 = np.diag(t)\n",
    "    convex1 = T0 @ X.T @ X @ T0\n",
    "    I = np.eye(T0.shape[0])\n",
    "    convex2 =  delta * (I - T0 @ T0)\n",
    "    p_term = convex1 + convex2\n",
    "    Pt = X @ T0 @ np.linalg.inv(p_term) @ T0 @ X.T\n",
    "    return Pt"
   ]
  },
  {
   "cell_type": "markdown",
   "id": "86db5cfd",
   "metadata": {},
   "source": [
    "### Objective function or the Lagrangian"
   ]
  },
  {
   "cell_type": "code",
   "execution_count": 4,
   "id": "71e129f9",
   "metadata": {},
   "outputs": [],
   "source": [
    "def objective(X, t, delta, lambda_):\n",
    "    Pt = Projection_matrix(X, t, delta)\n",
    "    trace_term = -np.trace(X.T @ Pt @ X)\n",
    "    regularization_term = lambda_ * np.sum(t)\n",
    "    return trace_term + regularization_term"
   ]
  },
  {
   "cell_type": "markdown",
   "id": "c7fce414",
   "metadata": {},
   "source": [
    "### Computing the matrices required for gradient"
   ]
  },
  {
   "cell_type": "code",
   "execution_count": 5,
   "id": "3caf3471",
   "metadata": {},
   "outputs": [],
   "source": [
    "def compute_matrices(X, t, delta):\n",
    "    T0 = np.diag(t)\n",
    "    K = X.T @ X\n",
    "    Z = K - delta * np.eye(K.shape[0])\n",
    "    Lt = T0 @ Z @ T0 + delta * np.eye(T0.shape[0])\n",
    "    return K, Z, Lt, T0\n",
    "\n",
    "def compute_phi(X, t, delta, lambda_, M):\n",
    "    K, Z, Lt, T0 = compute_matrices(X, t, delta)\n",
    "    phi_samples = []\n",
    "    for _ in range(M):\n",
    "        # Rademacher distribution\n",
    "        z = np.random.choice([-1, 1], size=(K.shape[0],))  \n",
    "        a = K @ z\n",
    "        b = np.linalg.inv(Lt) * (t * a)  # Element-wise multiplication\n",
    "        phi = (b * (Z @ (t * b))) - (a * b)  \n",
    "        phi_samples.append(phi)\n",
    "    phi_mean = np.mean(phi_samples, axis=0)\n",
    "    return phi_mean"
   ]
  },
  {
   "cell_type": "markdown",
   "id": "5f4689ca",
   "metadata": {},
   "source": [
    "### Computing gradient using Monte Carlo size M approximation"
   ]
  },
  {
   "cell_type": "code",
   "execution_count": 6,
   "id": "5bd3d4a5",
   "metadata": {},
   "outputs": [],
   "source": [
    "def gradient(X, t, delta, lambda_, M):\n",
    "    phi_mean = compute_phi(X, t, delta, lambda_, M)\n",
    "    gradient = 2 * (1 / M) * phi_mean + lambda_ * np.eye(X.shape[1])\n",
    "    return np.diag(gradient)"
   ]
  },
  {
   "cell_type": "code",
   "execution_count": null,
   "id": "119cc4ba",
   "metadata": {},
   "outputs": [],
   "source": []
  },
  {
   "cell_type": "markdown",
   "id": "e6375a18",
   "metadata": {},
   "source": [
    "### Non linear transformation from t to w"
   ]
  },
  {
   "cell_type": "code",
   "execution_count": 7,
   "id": "3132e429",
   "metadata": {},
   "outputs": [],
   "source": [
    "def t_to_w(t):\n",
    "    return np.sqrt(-np.log(1 - t))\n",
    "\n",
    "def w_to_t(w):\n",
    "    return 1 - np.exp(-(w**2))"
   ]
  },
  {
   "cell_type": "markdown",
   "id": "1165eb17",
   "metadata": {},
   "source": [
    "### Gradient Descent Algorithm"
   ]
  },
  {
   "cell_type": "code",
   "execution_count": 8,
   "id": "afa9f39a",
   "metadata": {},
   "outputs": [],
   "source": [
    "def gradient_descent(X, w_init, delta, lambda_, learning_rate, max_iter, M):\n",
    "    w = w_init\n",
    "    \n",
    "    for i in range(max_iter):\n",
    "        grad = gradient(X, w, delta, lambda_, M)\n",
    "        w -= learning_rate * grad\n",
    "        t = w_to_t(w)\n",
    "        \n",
    "        if i % 100 == 0:\n",
    "            print(f\"Iteration {i}: t = {t}\")\n",
    "            print(\"\\n\")\n",
    "            print(f\"Iteration{i}: Objective Value={objective(X, w, delta, lambda_)}\")\n",
    "            print(\"\\n\")\n",
    "        \n",
    "    return w"
   ]
  },
  {
   "cell_type": "markdown",
   "id": "049cd187",
   "metadata": {},
   "source": [
    "### Optimal value of t for small dataset "
   ]
  },
  {
   "cell_type": "code",
   "execution_count": 9,
   "id": "6e639560",
   "metadata": {},
   "outputs": [
    {
     "name": "stdout",
     "output_type": "stream",
     "text": [
      "Iteration 0: t = [0.50131835 0.53860757 0.50071369 0.5000079  0.49999466 0.52106905\n",
      " 0.53339078 0.5392327  0.51625908 0.53826094 0.54264705 0.51284799\n",
      " 0.51775172 0.50430196 0.50736865 0.50008672]\n",
      "\n",
      "\n",
      "Iteration0: Objective Value=-379159.08047852607\n",
      "\n",
      "\n",
      "Iteration 100: t = [1.         1.         1.         0.00215417 0.49657558 1.\n",
      " 1.         1.         1.         1.         1.         1.\n",
      " 1.         0.99998438 1.         1.        ]\n",
      "\n",
      "\n",
      "Iteration100: Objective Value=-378608.50967590447\n",
      "\n",
      "\n",
      "Iteration 200: t = [1.         1.         1.         0.43392864 0.49312729 1.\n",
      " 1.         1.         1.         1.         1.         1.\n",
      " 1.         1.         1.         1.        ]\n",
      "\n",
      "\n",
      "Iteration200: Objective Value=-378677.681895916\n",
      "\n",
      "\n",
      "Iteration 300: t = [1.         1.         1.         0.18517164 0.48952883 1.\n",
      " 1.         0.84314583 1.         1.         1.         1.\n",
      " 1.         0.54932889 1.         1.        ]\n",
      "\n",
      "\n",
      "Iteration300: Objective Value=-378610.8844345368\n",
      "\n",
      "\n",
      "Iteration 400: t = [1.         1.         1.         0.59712863 0.48604159 1.\n",
      " 1.         1.         1.         1.         1.         1.\n",
      " 1.         0.97904649 1.         1.        ]\n",
      "\n",
      "\n",
      "Iteration400: Objective Value=-378615.55158190144\n",
      "\n",
      "\n",
      "Iteration 500: t = [1.         1.         1.         0.11518987 0.48264233 1.\n",
      " 1.         1.         1.         1.         1.         1.\n",
      " 1.         0.82559457 1.         1.        ]\n",
      "\n",
      "\n",
      "Iteration500: Objective Value=-378336.0966759403\n",
      "\n",
      "\n",
      "Iteration 600: t = [0.54731431 1.         1.         0.29766057 0.47924665 1.\n",
      " 1.         1.         1.         1.         1.         1.\n",
      " 1.         0.31173522 0.99983744 1.        ]\n",
      "\n",
      "\n",
      "Iteration600: Objective Value=-378159.84198956896\n",
      "\n",
      "\n",
      "Iteration 700: t = [1.         1.         0.22639732 0.58963805 0.47574792 1.\n",
      " 1.         1.         1.         1.         1.         1.\n",
      " 1.         0.79124853 1.         1.        ]\n",
      "\n",
      "\n",
      "Iteration700: Objective Value=-377308.9758047713\n",
      "\n",
      "\n",
      "Iteration 800: t = [1.         1.         1.         0.70115854 0.47224256 1.\n",
      " 1.         1.         1.         1.         1.         1.\n",
      " 1.         0.99995537 1.         1.        ]\n",
      "\n",
      "\n",
      "Iteration800: Objective Value=-377187.0139625831\n",
      "\n",
      "\n",
      "Iteration 900: t = [0.22230725 1.         0.43915542 0.0059986  0.46850822 1.\n",
      " 1.         1.         1.         1.         1.         1.\n",
      " 1.         1.         1.         1.        ]\n",
      "\n",
      "\n",
      "Iteration900: Objective Value=-377363.1645199625\n",
      "\n",
      "\n",
      "\n",
      "\n",
      "Optimized w: [ 2.12352195e+01 -1.84810648e+03  3.11206214e+00  6.95214112e-02\n",
      "  7.90909799e-01 -5.90958297e+01  3.38619724e+02  1.41751267e+03\n",
      "  2.20907524e+02  8.62941953e+02  8.98617216e+02 -2.46729108e+01\n",
      "  8.04457679e+01  8.95304928e-01  8.75221611e+00 -1.88380073e+02]\n",
      "\n",
      "\n",
      "Optimized t: [1.         1.         0.99993779 0.00482157 0.46502663 1.\n",
      " 1.         1.         1.         1.         1.         1.\n",
      " 1.         0.55137634 1.         1.        ]\n"
     ]
    }
   ],
   "source": [
    "np.random.seed(0)\n",
    "# Import data (small dataset)\n",
    "df = pd.read_csv(\"D2XL1_small dataset.csv\")\n",
    "X = df.values \n",
    "\n",
    "n = X.shape[1]  \n",
    "m = X.shape[0]  \n",
    "\n",
    "# Initialize t and w\n",
    "t_init = np.full(n, 0.5)  \n",
    "w_init = np.sqrt(-np.log(1 - t_init))\n",
    "\n",
    "# Constants\n",
    "delta = 1\n",
    "lambda_ = 1\n",
    "learning_rate = 0.00001\n",
    "max_iter = 1000\n",
    "M = 10  # Monte Carlo sample size\n",
    "\n",
    "# Optimized w and t using gradient descent\n",
    "optimized_w = gradient_descent(X, w_init, delta, lambda_, learning_rate, max_iter, M)\n",
    "print(\"\\n\")\n",
    "print(\"Optimized w:\", optimized_w)\n",
    "print(\"\\n\")\n",
    "print(\"Optimized t:\", w_to_t(optimized_w))"
   ]
  },
  {
   "cell_type": "markdown",
   "id": "050dc7d3",
   "metadata": {},
   "source": [
    "### Optimal t"
   ]
  },
  {
   "cell_type": "code",
   "execution_count": 10,
   "id": "08418885",
   "metadata": {},
   "outputs": [
    {
     "name": "stdout",
     "output_type": "stream",
     "text": [
      "Optimized t: [1.         1.         0.99993779 0.00482157 0.46502663 1.\n",
      " 1.         1.         1.         1.         1.         1.\n",
      " 1.         0.55137634 1.         1.        ]\n"
     ]
    }
   ],
   "source": [
    "print(\"Optimized t:\", w_to_t(optimized_w))"
   ]
  },
  {
   "cell_type": "code",
   "execution_count": 11,
   "id": "fd72cd28",
   "metadata": {},
   "outputs": [
    {
     "data": {
      "text/plain": [
       "\"\\nNote that the t[i]'s with value less than 0.5 are the i'th columns of X to be dropped. \\nIn general we can  define a threshold for which t[i] < threshold implies the above. \\nIn the paper they have taken this threshold value as 0.5. \\nSo our final result of optimized t tells us to drop columns 4 and 5, or the two correlated columns. \\n\\nThe values of lambda and delta depends on data. The paper mentions d = 1 as optimal, and do a grid search for value of lambda. \\n\\n\""
      ]
     },
     "execution_count": 11,
     "metadata": {},
     "output_type": "execute_result"
    }
   ],
   "source": [
    "\"\"\"\n",
    "Note that the t[i]'s with value less than 0.5 are the i'th columns of X to be dropped. \n",
    "In general we can  define a threshold for which t[i] < threshold implies the above. \n",
    "In the paper they have taken this threshold value as 0.5. \n",
    "So our final result of optimized t tells us to drop columns 4 and 5, or the two correlated columns. \n",
    "\n",
    "The values of lambda and delta depends on data. The paper mentions d = 1 as optimal, and do a grid search for value of lambda. \n",
    "\n",
    "\"\"\"\n"
   ]
  },
  {
   "cell_type": "markdown",
   "id": "a517bcdb",
   "metadata": {},
   "source": [
    "### Hyper parameter tuning for lambda"
   ]
  },
  {
   "cell_type": "code",
   "execution_count": 12,
   "id": "56bc8678",
   "metadata": {},
   "outputs": [
    {
     "data": {
      "image/png": "[encoded data removed]",
      "text/plain": [
       "<Figure size 1000x600 with 1 Axes>"
      ]
     },
     "metadata": {},
     "output_type": "display_data"
    }
   ],
   "source": [
    "def grid_search(X, w_init, delta, lambdas, learning_rate, max_iter, M):\n",
    "    results = []\n",
    "    for lambda_ in lambdas:\n",
    "        obj_value = objective(X, optimized_w, delta, lambda_)  \n",
    "        results.append((lambda_, obj_value))\n",
    "    return results\n",
    "\n",
    "lambda_values = np.logspace(-5, 0, 20)\n",
    "\n",
    "results = grid_search(X, w_init, delta, lambda_values, learning_rate, max_iter, M)\n",
    "\n",
    "lambdas, objective_values = zip(*results)\n",
    "plt.figure(figsize=(10, 6))\n",
    "plt.semilogx(lambdas, objective_values, marker='o')\n",
    "plt.xlabel('Lambda')\n",
    "plt.ylabel('Objective Value')\n",
    "plt.title('Grid Search Results')\n",
    "plt.grid(True)\n",
    "plt.show()"
   ]
  },
  {
   "cell_type": "code",
   "execution_count": 13,
   "id": "5d95170f",
   "metadata": {},
   "outputs": [
    {
     "data": {
      "text/plain": [
       "'\\nLambda = 1 seems optimal from the figure\\n\\n'"
      ]
     },
     "execution_count": 13,
     "metadata": {},
     "output_type": "execute_result"
    }
   ],
   "source": [
    "\"\"\"\n",
    "Lambda = 1 seems optimal from the figure\n",
    "\n",
    "\"\"\""
   ]
  },
  {
   "cell_type": "code",
   "execution_count": 14,
   "id": "5b6a349b",
   "metadata": {},
   "outputs": [
    {
     "data": {
      "text/plain": [
       "\"\\nNote that the optimal values of lambda_ and delta are dependent on data and sensitive. High values of lambda_ will push the more \\nw's to zero, delta meanwhile is taken as 1 like in the paper. \\n\\nThe result is highly sensitive on M and learning rate of gradient descent, which also is dependent on data. Carrying parameter\\ntuning over all can be tedious and computationally expensive. \\n\\nSo for each dataset, we need to figure out the values of lamda_, M and learning rate to get the optimal results. This can be too\\ntedious. A better way to get these values is needed. (to be done). \\n\\n\\n\""
      ]
     },
     "execution_count": 14,
     "metadata": {},
     "output_type": "execute_result"
    }
   ],
   "source": [
    "\"\"\"\n",
    "Note that the optimal values of lambda_ and delta are dependent on data and sensitive. High values of lambda_ will push the more \n",
    "w's to zero, delta meanwhile is taken as 1 like in the paper. \n",
    "\n",
    "The result is highly sensitive on M and learning rate of gradient descent, which also is dependent on data. Carrying parameter\n",
    "tuning over all can be tedious and computationally expensive. \n",
    "\n",
    "So for each dataset, we need to figure out the values of lamda_, M and learning rate to get the optimal results. This can be too\n",
    "tedious. A better way to get these values is needed. (to be done). \n",
    "\n",
    "\n",
    "\"\"\""
   ]
  },
  {
   "cell_type": "code",
   "execution_count": null,
   "id": "b951562f",
   "metadata": {},
   "outputs": [],
   "source": []
  }
 ],
 "metadata": {
  "kernelspec": {
   "display_name": "Python 3 (ipykernel)",
   "language": "python",
   "name": "python3"
  },
  "language_info": {
   "codemirror_mode": {
    "name": "ipython",
    "version": 3
   },
   "file_extension": ".py",
   "mimetype": "text/x-python",
   "name": "python",
   "nbconvert_exporter": "python",
   "pygments_lexer": "ipython3",
   "version": "3.11.4"
  }
 },
 "nbformat": 4,
 "nbformat_minor": 5
}
