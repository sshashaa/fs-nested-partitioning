{
 "cells": [
  {
   "cell_type": "code",
   "execution_count": 1,
   "id": "8ed99553",
   "metadata": {},
   "outputs": [],
   "source": [
    "import numpy as np\n",
    "import pandas as pd\n",
    "import matplotlib.pyplot as plt"
   ]
  },
  {
   "cell_type": "code",
   "execution_count": null,
   "id": "37c17e25",
   "metadata": {},
   "outputs": [],
   "source": [
    "\"\"\"\n",
    "CSSP via continious optimization as done in the paper (Moka et al., 2023).\n",
    "\n",
    "The definitions of the terms are as follows:\n",
    "\n",
    "X : The original data matrix (m,n) over which we apply CSSP to drop the columns. \n",
    "Here X is the small dataset comprising of 3 main columns, 2 correlated columns, 10 error columns and the y vector. \n",
    "\n",
    "\n",
    "delta : Fixed constant (parameter to control the penalized term in projection matrix)\n",
    "\n",
    "\n",
    "t : The column (n,1), each element between 0 and 1 (continious). Getting a value less than \n",
    "threshold value (0.5 in paper) indicates the column can be dropped. \n",
    "\n",
    "\n",
    "w : Non linear transform from t, (-log(1-t)) to make the optimization problem unconstrained.\n",
    "\n",
    "\n",
    "lambda_ : Regularization parameter.\n",
    "\n",
    "\n",
    "M : Monte Carlo size, used for approximation during gradient calculation, reducing computational complexity. \n",
    "In paper, M = 5. \n",
    "\n",
    "\n",
    "max_iter : Iterations done for gradient descent algorithm. \n",
    "\n",
    "\n",
    "S_j : Column vector of size n, used for getting optimal t and tolerance condition (explained later).\n",
    "\n",
    "\n",
    "Gradient descent algorithm is used to solve the optimization problem.\n",
    "\n",
    "\"\"\""
   ]
  },
  {
   "cell_type": "markdown",
   "id": "34864324",
   "metadata": {},
   "source": [
    "### Define Projection Matrix for continious optimization"
   ]
  },
  {
   "cell_type": "code",
   "execution_count": 2,
   "id": "d2fedb59",
   "metadata": {},
   "outputs": [],
   "source": [
    "def Projection_matrix(X, t, delta):\n",
    "    T0 = np.diag(t)\n",
    "    convex1 = T0 @ X.T @ X @ T0\n",
    "    I = np.eye(T0.shape[0])\n",
    "    convex2 =  delta * (I - T0 @ T0)\n",
    "    p_term = convex1 + convex2\n",
    "    Pt = X @ T0 @ np.linalg.inv(p_term) @ T0 @ X.T\n",
    "    return Pt"
   ]
  },
  {
   "cell_type": "markdown",
   "id": "72297470",
   "metadata": {},
   "source": [
    "### Objective function or the Lagrangian"
   ]
  },
  {
   "cell_type": "code",
   "execution_count": 3,
   "id": "99b37b06",
   "metadata": {},
   "outputs": [],
   "source": [
    "def objective(X, t, delta, lambda_):\n",
    "    Pt = Projection_matrix(X, t, delta)\n",
    "    trace_term = -np.trace(X.T @ Pt @ X)\n",
    "    regularization_term = lambda_ * np.sum(t)\n",
    "    return trace_term + regularization_term"
   ]
  },
  {
   "cell_type": "markdown",
   "id": "a37828f2",
   "metadata": {},
   "source": [
    "### Computing the matrices required for gradient"
   ]
  },
  {
   "cell_type": "code",
   "execution_count": 4,
   "id": "047b325d",
   "metadata": {},
   "outputs": [],
   "source": [
    "def compute_matrices(X, t, delta):\n",
    "    T0 = np.diag(t)\n",
    "    K = X.T @ X\n",
    "    Z = K - delta * np.eye(K.shape[0])\n",
    "    Lt = T0 @ Z @ T0 + delta * np.eye(T0.shape[0])\n",
    "    return K, Z, Lt, T0\n",
    "\n",
    "def compute_phi(X, t, delta, lambda_, M):\n",
    "    K, Z, Lt, T0 = compute_matrices(X, t, delta)\n",
    "    phi_samples = []\n",
    "    for _ in range(M):\n",
    "        # Rademacher distribution\n",
    "        z = np.random.choice([-1, 1], size=(K.shape[0],))  \n",
    "        a = K @ z\n",
    "        b = np.linalg.inv(Lt) * (t * a)  # Element-wise multiplication\n",
    "        phi = (b * (Z @ (t * b))) - (a * b)  \n",
    "        phi_samples.append(phi)\n",
    "    phi_mean = np.mean(phi_samples, axis=0)\n",
    "    return phi_mean"
   ]
  },
  {
   "cell_type": "markdown",
   "id": "765f7702",
   "metadata": {},
   "source": [
    "### Computing gradient using Monte Carlo size M approximation"
   ]
  },
  {
   "cell_type": "code",
   "execution_count": 5,
   "id": "99cc5acf",
   "metadata": {},
   "outputs": [],
   "source": [
    "def gradient(X, t, delta, lambda_, M):\n",
    "    phi_mean = compute_phi(X, t, delta, lambda_, M)\n",
    "    gradient = 2 * (1 / M) * phi_mean + lambda_ * np.eye(X.shape[1])\n",
    "    return np.diag(gradient)"
   ]
  },
  {
   "cell_type": "code",
   "execution_count": null,
   "id": "2c46b821",
   "metadata": {},
   "outputs": [],
   "source": []
  },
  {
   "cell_type": "markdown",
   "id": "2975a2ed",
   "metadata": {},
   "source": [
    "### Non linear transformation from t to w"
   ]
  },
  {
   "cell_type": "code",
   "execution_count": 6,
   "id": "79d6145a",
   "metadata": {},
   "outputs": [],
   "source": [
    "def t_to_w(t):\n",
    "    return np.sqrt(-np.log(1 - t))\n",
    "\n",
    "def w_to_t(w):\n",
    "    return 1 - np.exp(-(w*w))"
   ]
  },
  {
   "cell_type": "markdown",
   "id": "6d829c74",
   "metadata": {},
   "source": [
    "### Gradient Descent Algorithm"
   ]
  },
  {
   "cell_type": "code",
   "execution_count": 7,
   "id": "4a50dce4",
   "metadata": {},
   "outputs": [],
   "source": [
    "def gradient_descent(X, w_init, delta, lambda_, learning_rate, max_iter, M):\n",
    "    w = w_init\n",
    "    \n",
    "    for i in range(max_iter):\n",
    "        grad = gradient(X, w, delta, lambda_, M)\n",
    "        w -= learning_rate * grad\n",
    "        t = w_to_t(w)\n",
    "        \n",
    "        for j in range(len(t)):\n",
    "            if t[j] <= 0.5:    # threshold value taken as 0.5\n",
    "                S_j[j] += 1\n",
    "    \n",
    "        if i % 100 == 0:\n",
    "            print(f\"Iteration {i}: t = {t}\")\n",
    "            print(\"\\n\")\n",
    "            print(f\"Iteration{i}: Objective Value={objective(X, w, delta, lambda_)}\")\n",
    "            print(\"\\n\")\n",
    "        \n",
    "    return w"
   ]
  },
  {
   "cell_type": "markdown",
   "id": "e3e945ee",
   "metadata": {},
   "source": [
    "### Compute t for small dataset over different iterations"
   ]
  },
  {
   "cell_type": "code",
   "execution_count": 9,
   "id": "44c5f795",
   "metadata": {},
   "outputs": [
    {
     "name": "stdout",
     "output_type": "stream",
     "text": [
      "Iteration 0: t = [0.50250896 0.57186874 0.50147198 0.50001565 0.4999988  0.53893489\n",
      " 0.56105114 0.57281518 0.52993947 0.57033448 0.57815865 0.52373797\n",
      " 0.53287367 0.50827644 0.51347086 0.50017448]\n",
      "\n",
      "\n",
      "Iteration0: Objective Value=-379159.6157963624\n",
      "\n",
      "\n",
      "Iteration 100: t = [1.         1.         1.         0.99999992 0.49377481 1.\n",
      " 1.         1.         1.         1.         1.         1.\n",
      " 1.         1.         1.         1.        ]\n",
      "\n",
      "\n",
      "Iteration100: Objective Value=-379113.5555219474\n",
      "\n",
      "\n",
      "Iteration 200: t = [1.         1.         0.99999999 0.99989732 0.48741005 1.\n",
      " 1.         1.         1.         1.         1.         1.\n",
      " 1.         1.         1.         1.        ]\n",
      "\n",
      "\n",
      "Iteration200: Objective Value=-379591.6809315111\n",
      "\n",
      "\n",
      "Iteration 300: t = [0.78335331 1.         0.5543835  0.9558786  0.48116245 1.\n",
      " 1.         1.         1.         1.         1.         1.\n",
      " 1.         0.8783644  0.97759938 1.        ]\n",
      "\n",
      "\n",
      "Iteration300: Objective Value=-379528.30315875536\n",
      "\n",
      "\n",
      "Iteration 400: t = [1.         1.         0.04663702 0.95750762 0.47498433 1.\n",
      " 1.         1.         1.         1.         1.         1.\n",
      " 1.         1.         1.         1.        ]\n",
      "\n",
      "\n",
      "Iteration400: Objective Value=-378711.20110135135\n",
      "\n",
      "\n",
      "Iteration 500: t = [1.         1.         1.         0.35850248 0.46857607 1.\n",
      " 1.         1.         1.         1.         1.         1.\n",
      " 1.         1.         1.         1.        ]\n",
      "\n",
      "\n",
      "Iteration500: Objective Value=-378947.4976404081\n",
      "\n",
      "\n",
      "Iteration 600: t = [1.         1.         1.         0.99725729 0.46207061 1.\n",
      " 0.99998243 1.         1.         1.         1.         1.\n",
      " 1.         1.         1.         1.        ]\n",
      "\n",
      "\n",
      "Iteration600: Objective Value=-379749.06720183155\n",
      "\n",
      "\n",
      "Iteration 700: t = [1.         1.         1.         0.42232177 0.45564902 1.\n",
      " 1.         1.         1.         1.         1.         1.\n",
      " 1.         1.         1.         1.        ]\n",
      "\n",
      "\n",
      "Iteration700: Objective Value=-380082.9534080703\n",
      "\n",
      "\n",
      "Iteration 800: t = [1.         1.         1.         0.9417145  0.44914618 1.\n",
      " 1.         1.         1.         1.         1.         1.\n",
      " 1.         1.         1.         1.        ]\n",
      "\n",
      "\n",
      "Iteration800: Objective Value=-379735.3868441112\n",
      "\n",
      "\n",
      "Iteration 900: t = [1.         1.         1.         0.76054307 0.44289389 1.\n",
      " 1.         1.         1.         1.         1.         1.\n",
      " 1.         0.98656596 1.         1.        ]\n",
      "\n",
      "\n",
      "Iteration900: Objective Value=-379825.0913921299\n",
      "\n",
      "\n",
      "Iteration 1000: t = [0.99972203 1.         1.         0.04906865 0.43657319 1.\n",
      " 1.         1.         1.         1.         1.         0.78613737\n",
      " 1.         1.         1.         1.        ]\n",
      "\n",
      "\n",
      "Iteration1000: Objective Value=-379327.26432421163\n",
      "\n",
      "\n",
      "Iteration 1100: t = [1.         1.         1.         0.64384079 0.43012881 1.\n",
      " 1.         1.         1.         1.         1.         1.\n",
      " 1.         0.99999985 1.         1.        ]\n",
      "\n",
      "\n",
      "Iteration1100: Objective Value=-378978.93744742667\n",
      "\n",
      "\n",
      "Iteration 1200: t = [1.         1.         1.         0.33255712 0.42384566 1.\n",
      " 1.         1.         1.         1.         1.         1.\n",
      " 1.         1.         1.         1.        ]\n",
      "\n",
      "\n",
      "Iteration1200: Objective Value=-379004.6557641468\n",
      "\n",
      "\n",
      "Iteration 1300: t = [1.         1.         1.         0.9789932  0.41705163 1.\n",
      " 1.         1.         1.         1.         1.         1.\n",
      " 1.         0.89293701 1.         1.        ]\n",
      "\n",
      "\n",
      "Iteration1300: Objective Value=-378586.517794956\n",
      "\n",
      "\n",
      "Iteration 1400: t = [1.         1.         1.         0.99999519 0.41002665 1.\n",
      " 1.         1.         1.         1.         1.         1.\n",
      " 1.         1.         1.         1.        ]\n",
      "\n",
      "\n",
      "Iteration1400: Objective Value=-378426.3151521158\n",
      "\n",
      "\n",
      "Iteration 1500: t = [1.         1.         0.99999907 0.99287759 0.40288968 1.\n",
      " 1.         1.         1.         1.         1.         1.\n",
      " 1.         0.32485793 1.         1.        ]\n",
      "\n",
      "\n",
      "Iteration1500: Objective Value=-377542.52486055857\n",
      "\n",
      "\n",
      "Iteration 1600: t = [1.         1.         1.         0.41463333 0.39617364 1.\n",
      " 1.         1.         1.         1.         1.         1.\n",
      " 1.         1.         1.         1.        ]\n",
      "\n",
      "\n",
      "Iteration1600: Objective Value=-378248.68263222167\n",
      "\n",
      "\n",
      "Iteration 1700: t = [1.         1.         1.         0.99993623 0.38914996 1.\n",
      " 1.         1.         1.         1.         1.         1.\n",
      " 1.         1.         0.99999602 1.        ]\n",
      "\n",
      "\n",
      "Iteration1700: Objective Value=-378230.2103738487\n",
      "\n",
      "\n",
      "Iteration 1800: t = [1.         1.         1.         0.96306315 0.38223664 1.\n",
      " 1.         1.         1.         1.         1.         1.\n",
      " 1.         1.         1.         1.        ]\n",
      "\n",
      "\n",
      "Iteration1800: Objective Value=-379658.5256763382\n",
      "\n",
      "\n",
      "Iteration 1900: t = [1.         1.         1.         0.50868188 0.37512989 1.\n",
      " 1.         1.         1.         1.         1.         1.\n",
      " 1.         1.         1.         1.        ]\n",
      "\n",
      "\n",
      "Iteration1900: Objective Value=-379913.04761656234\n",
      "\n",
      "\n",
      "\n",
      "\n"
     ]
    }
   ],
   "source": [
    "np.random.seed(0)\n",
    "# Import data (small dataset)\n",
    "df = pd.read_csv(\"D2XL1_small dataset.csv\")\n",
    "X = df.values \n",
    "\n",
    "n = X.shape[1]  \n",
    "m = X.shape[0]  \n",
    "\n",
    "# Initialize t and w\n",
    "t_init = np.full(n, 0.5)  \n",
    "w_init = np.sqrt(-np.log(1 - t_init))\n",
    "\n",
    "# Initialize S_j \n",
    "S_j = np.full(n, 0)\n",
    "\n",
    "# Constants\n",
    "delta = 1\n",
    "lambda_ = 1\n",
    "learning_rate = 0.00001\n",
    "max_iter = 2000\n",
    "M = 5 # Monte Carlo sample size\n",
    "\n",
    "# Optimized w and t using gradient descent\n",
    "optimized_w = gradient_descent(X, w_init, delta, lambda_, learning_rate, max_iter, M)\n",
    "print(\"\\n\")"
   ]
  },
  {
   "cell_type": "markdown",
   "id": "d97d4ba8",
   "metadata": {},
   "source": [
    "### Getting optimal t and tolerance condition"
   ]
  },
  {
   "cell_type": "code",
   "execution_count": null,
   "id": "692b21c9",
   "metadata": {},
   "outputs": [],
   "source": [
    "\"\"\"\n",
    "From the previous block we can see how the objective function is changing\n",
    "with gradient descent. Note that, the objective value differs by a small margin\n",
    "with each iteration, often bouncing back and forth. However even with almost same \n",
    "objective function value, we can see noticeable differences in t. For this reason,\n",
    "a rigid tolerance condition might give a very biased result.\n",
    "\n",
    "For this reason, a zero vector S_j (n,1) is initialized. With each iteration, if \n",
    "some element of t is less than 0.5 (threshold) then the corresponding element of S_j gets an \n",
    "increment by 1. Thus over all the iteration, the elements of S_j records the number\n",
    "of times the corresponding element of t had value less than 0.5 (threshold). \n",
    "\n",
    "This gives a better picture on which columns of X has been dropped the most over all\n",
    "the iterations of the algorithm. Also note that the objective function value over \n",
    "almost all these iterations are very close with no such significant differences (this \n",
    "can be achieved with proper choice of learning rate and number of iterations, getting \n",
    "very close to the region around global or local minimum).\n",
    "\n",
    "The paper (Moka et al., 2023) doesn't give much information on the tolerance conditions\n",
    "or the sensitivity of data with all parameters. \n",
    "\n",
    "\"\"\""
   ]
  },
  {
   "cell_type": "code",
   "execution_count": null,
   "id": "269c864c",
   "metadata": {},
   "outputs": [],
   "source": [
    "\"\"\"\n",
    "From the results optimal t is achieved at iteration 700, where columns 4 and 5 are below\n",
    "threshold. \n",
    "\"\"\""
   ]
  },
  {
   "cell_type": "markdown",
   "id": "393741fd",
   "metadata": {},
   "source": [
    "### Results"
   ]
  },
  {
   "cell_type": "code",
   "execution_count": 10,
   "id": "1d8e6d8c",
   "metadata": {},
   "outputs": [
    {
     "name": "stdout",
     "output_type": "stream",
     "text": [
      "[  37    0   84  743 2000    4    4    2    7    1    1   18   10  116\n",
      "   28    3]\n"
     ]
    }
   ],
   "source": [
    "print(S_j)"
   ]
  },
  {
   "cell_type": "code",
   "execution_count": null,
   "id": "cd16435c",
   "metadata": {},
   "outputs": [],
   "source": [
    "\"\"\"\n",
    "From S_j, we see column 4 has been below threshold 743 times and column 5 below threshold 200 times \n",
    "out of the iterations (2000). None of the other columns have been dropped to such number of times.\n",
    "\n",
    "Column 4 has been dropped 37% and column 5 dropped 100% over all iterations. \n",
    "Rest all columns have been dropped less than 10%.\n",
    "\n",
    "This provides strong reasoning for dropping out the 4th and 5th column of the dataset.\n",
    "\"\"\""
   ]
  },
  {
   "cell_type": "markdown",
   "id": "4e0a735c",
   "metadata": {},
   "source": [
    "### Hyper parameter tuning for lambda"
   ]
  },
  {
   "cell_type": "code",
   "execution_count": 11,
   "id": "8fab4247",
   "metadata": {},
   "outputs": [
    {
     "data": {
      "image/png": "[encoded data removed]",
      "text/plain": [
       "<Figure size 1000x600 with 1 Axes>"
      ]
     },
     "metadata": {},
     "output_type": "display_data"
    }
   ],
   "source": [
    "\"\"\"\n",
    "The values of lambda and delta depends on data. The paper mentions d = 1 as optimal, \n",
    "and do a grid search for value of lambda. \n",
    "\n",
    "\"\"\"\n",
    "\n",
    "def grid_search(X, w_init, delta, lambdas, learning_rate, max_iter, M):\n",
    "    results = []\n",
    "    for lambda_ in lambdas:\n",
    "        obj_value = objective(X, optimized_w, delta, lambda_)  \n",
    "        results.append((lambda_, obj_value))\n",
    "    return results\n",
    "\n",
    "lambda_values = np.logspace(-5, 0, 20)\n",
    "\n",
    "results = grid_search(X, w_init, delta, lambda_values, learning_rate, max_iter, M)\n",
    "\n",
    "lambdas, objective_values = zip(*results)\n",
    "plt.figure(figsize=(10, 6))\n",
    "plt.semilogx(lambdas, objective_values, marker='o')\n",
    "plt.xlabel('Lambda')\n",
    "plt.ylabel('Objective Value')\n",
    "plt.title('Grid Search Results')\n",
    "plt.grid(True)\n",
    "plt.show()"
   ]
  },
  {
   "cell_type": "code",
   "execution_count": null,
   "id": "483ce7dd",
   "metadata": {},
   "outputs": [],
   "source": [
    "\"\"\"\n",
    "Lambda = 1 seems optimal from the figure\n",
    "\n",
    "\"\"\""
   ]
  },
  {
   "cell_type": "code",
   "execution_count": null,
   "id": "8a53450d",
   "metadata": {},
   "outputs": [],
   "source": [
    "\"\"\"\n",
    "Note that the optimal values of lambda_ and delta are dependent on data and sensitive. \n",
    "High values of lambda_ will push the more w's to zero, delta meanwhile is taken as 1 like in the paper. \n",
    "\n",
    "The result is highly sensitive to M and learning rate of gradient descent, \n",
    "which also is dependent on data. Carrying parameter tuning over all can be tedious \n",
    "and computationally expensive. \n",
    "\n",
    "So for each dataset, we need to figure out the values of lamda_, M and learning rate \n",
    "to get the optimal results.This can be too tedious. A better way to get these \n",
    "values is needed. (to be done). \n",
    "\n",
    "\n",
    "\"\"\""
   ]
  },
  {
   "cell_type": "code",
   "execution_count": null,
   "id": "0e850e3f",
   "metadata": {},
   "outputs": [],
   "source": []
  }
 ],
 "metadata": {
  "kernelspec": {
   "display_name": "Python 3 (ipykernel)",
   "language": "python",
   "name": "python3"
  },
  "language_info": {
   "codemirror_mode": {
    "name": "ipython",
    "version": 3
   },
   "file_extension": ".py",
   "mimetype": "text/x-python",
   "name": "python",
   "nbconvert_exporter": "python",
   "pygments_lexer": "ipython3",
   "version": "3.11.4"
  }
 },
 "nbformat": 4,
 "nbformat_minor": 5
}
