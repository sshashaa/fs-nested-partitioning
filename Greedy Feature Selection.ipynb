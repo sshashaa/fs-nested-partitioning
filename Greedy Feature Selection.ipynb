{
 "cells": [
  {
   "cell_type": "markdown",
   "source": [
    "# Greedy Feature Selection\n",
    "Author: Amir H. Sadeghi\n",
    "Last Update: 04/10/2023"
   ],
   "metadata": {
    "collapsed": false
   }
  },
  {
   "cell_type": "markdown",
   "source": [
    "## Import Libraries"
   ],
   "metadata": {
    "collapsed": false
   },
   "execution_count": 1
  },
  {
   "cell_type": "code",
   "execution_count": 32,
   "outputs": [],
   "source": [
    "import pandas as pd\n",
    "import numpy as np\n",
    "from scipy.stats import bernoulli\n",
    "import pandas as pd\n",
    "from sklearn.model_selection import train_test_split\n",
    "from sklearn.linear_model import LinearRegression\n",
    "from sklearn.metrics import mean_squared_error, r2_score\n",
    "from scipy.stats import entropy\n"
   ],
   "metadata": {
    "collapsed": false
   }
  },
  {
   "cell_type": "markdown",
   "source": [
    "## Read Data"
   ],
   "metadata": {
    "collapsed": false
   }
  },
  {
   "cell_type": "code",
   "execution_count": 33,
   "outputs": [
    {
     "data": {
      "text/plain": "         x1        x2        x3     corr1       corr2    noise1    noise2  \\\n0  1.439524  3.579187  9.596431 -0.020631 -101.159764  4.338788  2.464870   \n1  1.769823  5.513767  6.937239  0.683886 -212.185187  3.583505  4.068732   \n2  3.558708  4.506616  2.204565 -1.620440 -259.446800  4.695768  2.966538   \n3  2.070508  4.304915  4.629582 -0.327478 -162.221712  4.146469  3.032776   \n4  2.129288  3.096763  1.756980  0.822618 -109.831568  4.598500  3.658609   \n\n     noise3    noise4    noise5    noise6    noise7    noise8    noise9  \\\n0  7.115856  2.837020  2.449958  1.731931  3.032334  4.524291  3.909282   \n1  5.230756  2.795022  1.317801  0.865130  2.939818  1.975339  4.422803   \n2  4.796146  0.318664  4.562151  1.712156  2.310784  3.518887  2.675007   \n3  2.446522  2.685872  4.596986 -0.258177  3.006083  3.024128  4.650399   \n4  3.389158  4.046742  0.546048 -0.638760  1.507549  2.028737  4.151604   \n\n    noise10          y  \n0  3.213687  28.539186  \n1  2.184427  26.731980  \n2  3.619724  24.832210  \n3  4.298468  21.811595  \n4  4.274389  16.382843  ",
      "text/html": "<div>\n<style scoped>\n    .dataframe tbody tr th:only-of-type {\n        vertical-align: middle;\n    }\n\n    .dataframe tbody tr th {\n        vertical-align: top;\n    }\n\n    .dataframe thead th {\n        text-align: right;\n    }\n</style>\n<table border=\"1\" class=\"dataframe\">\n  <thead>\n    <tr style=\"text-align: right;\">\n      <th></th>\n      <th>x1</th>\n      <th>x2</th>\n      <th>x3</th>\n      <th>corr1</th>\n      <th>corr2</th>\n      <th>noise1</th>\n      <th>noise2</th>\n      <th>noise3</th>\n      <th>noise4</th>\n      <th>noise5</th>\n      <th>noise6</th>\n      <th>noise7</th>\n      <th>noise8</th>\n      <th>noise9</th>\n      <th>noise10</th>\n      <th>y</th>\n    </tr>\n  </thead>\n  <tbody>\n    <tr>\n      <th>0</th>\n      <td>1.439524</td>\n      <td>3.579187</td>\n      <td>9.596431</td>\n      <td>-0.020631</td>\n      <td>-101.159764</td>\n      <td>4.338788</td>\n      <td>2.464870</td>\n      <td>7.115856</td>\n      <td>2.837020</td>\n      <td>2.449958</td>\n      <td>1.731931</td>\n      <td>3.032334</td>\n      <td>4.524291</td>\n      <td>3.909282</td>\n      <td>3.213687</td>\n      <td>28.539186</td>\n    </tr>\n    <tr>\n      <th>1</th>\n      <td>1.769823</td>\n      <td>5.513767</td>\n      <td>6.937239</td>\n      <td>0.683886</td>\n      <td>-212.185187</td>\n      <td>3.583505</td>\n      <td>4.068732</td>\n      <td>5.230756</td>\n      <td>2.795022</td>\n      <td>1.317801</td>\n      <td>0.865130</td>\n      <td>2.939818</td>\n      <td>1.975339</td>\n      <td>4.422803</td>\n      <td>2.184427</td>\n      <td>26.731980</td>\n    </tr>\n    <tr>\n      <th>2</th>\n      <td>3.558708</td>\n      <td>4.506616</td>\n      <td>2.204565</td>\n      <td>-1.620440</td>\n      <td>-259.446800</td>\n      <td>4.695768</td>\n      <td>2.966538</td>\n      <td>4.796146</td>\n      <td>0.318664</td>\n      <td>4.562151</td>\n      <td>1.712156</td>\n      <td>2.310784</td>\n      <td>3.518887</td>\n      <td>2.675007</td>\n      <td>3.619724</td>\n      <td>24.832210</td>\n    </tr>\n    <tr>\n      <th>3</th>\n      <td>2.070508</td>\n      <td>4.304915</td>\n      <td>4.629582</td>\n      <td>-0.327478</td>\n      <td>-162.221712</td>\n      <td>4.146469</td>\n      <td>3.032776</td>\n      <td>2.446522</td>\n      <td>2.685872</td>\n      <td>4.596986</td>\n      <td>-0.258177</td>\n      <td>3.006083</td>\n      <td>3.024128</td>\n      <td>4.650399</td>\n      <td>4.298468</td>\n      <td>21.811595</td>\n    </tr>\n    <tr>\n      <th>4</th>\n      <td>2.129288</td>\n      <td>3.096763</td>\n      <td>1.756980</td>\n      <td>0.822618</td>\n      <td>-109.831568</td>\n      <td>4.598500</td>\n      <td>3.658609</td>\n      <td>3.389158</td>\n      <td>4.046742</td>\n      <td>0.546048</td>\n      <td>-0.638760</td>\n      <td>1.507549</td>\n      <td>2.028737</td>\n      <td>4.151604</td>\n      <td>4.274389</td>\n      <td>16.382843</td>\n    </tr>\n  </tbody>\n</table>\n</div>"
     },
     "execution_count": 30,
     "metadata": {},
     "output_type": "execute_result"
    },
    {
     "data": {
      "text/plain": "         x1        x2        x3     corr1       corr2    noise1    noise2  \\\n0  1.439524  3.579187  9.596431 -0.020631 -101.159764  4.338788  2.464870   \n1  1.769823  5.513767  6.937239  0.683886 -212.185187  3.583505  4.068732   \n2  3.558708  4.506616  2.204565 -1.620440 -259.446800  4.695768  2.966538   \n3  2.070508  4.304915  4.629582 -0.327478 -162.221712  4.146469  3.032776   \n4  2.129288  3.096763  1.756980  0.822618 -109.831568  4.598500  3.658609   \n\n     noise3    noise4    noise5    noise6    noise7    noise8    noise9  \\\n0  7.115856  2.837020  2.449958  1.731931  3.032334  4.524291  3.909282   \n1  5.230756  2.795022  1.317801  0.865130  2.939818  1.975339  4.422803   \n2  4.796146  0.318664  4.562151  1.712156  2.310784  3.518887  2.675007   \n3  2.446522  2.685872  4.596986 -0.258177  3.006083  3.024128  4.650399   \n4  3.389158  4.046742  0.546048 -0.638760  1.507549  2.028737  4.151604   \n\n    noise10          y  \n0  3.213687  28.539186  \n1  2.184427  26.731980  \n2  3.619724  24.832210  \n3  4.298468  21.811595  \n4  4.274389  16.382843  ",
      "text/html": "<div>\n<style scoped>\n    .dataframe tbody tr th:only-of-type {\n        vertical-align: middle;\n    }\n\n    .dataframe tbody tr th {\n        vertical-align: top;\n    }\n\n    .dataframe thead th {\n        text-align: right;\n    }\n</style>\n<table border=\"1\" class=\"dataframe\">\n  <thead>\n    <tr style=\"text-align: right;\">\n      <th></th>\n      <th>x1</th>\n      <th>x2</th>\n      <th>x3</th>\n      <th>corr1</th>\n      <th>corr2</th>\n      <th>noise1</th>\n      <th>noise2</th>\n      <th>noise3</th>\n      <th>noise4</th>\n      <th>noise5</th>\n      <th>noise6</th>\n      <th>noise7</th>\n      <th>noise8</th>\n      <th>noise9</th>\n      <th>noise10</th>\n      <th>y</th>\n    </tr>\n  </thead>\n  <tbody>\n    <tr>\n      <th>0</th>\n      <td>1.439524</td>\n      <td>3.579187</td>\n      <td>9.596431</td>\n      <td>-0.020631</td>\n      <td>-101.159764</td>\n      <td>4.338788</td>\n      <td>2.464870</td>\n      <td>7.115856</td>\n      <td>2.837020</td>\n      <td>2.449958</td>\n      <td>1.731931</td>\n      <td>3.032334</td>\n      <td>4.524291</td>\n      <td>3.909282</td>\n      <td>3.213687</td>\n      <td>28.539186</td>\n    </tr>\n    <tr>\n      <th>1</th>\n      <td>1.769823</td>\n      <td>5.513767</td>\n      <td>6.937239</td>\n      <td>0.683886</td>\n      <td>-212.185187</td>\n      <td>3.583505</td>\n      <td>4.068732</td>\n      <td>5.230756</td>\n      <td>2.795022</td>\n      <td>1.317801</td>\n      <td>0.865130</td>\n      <td>2.939818</td>\n      <td>1.975339</td>\n      <td>4.422803</td>\n      <td>2.184427</td>\n      <td>26.731980</td>\n    </tr>\n    <tr>\n      <th>2</th>\n      <td>3.558708</td>\n      <td>4.506616</td>\n      <td>2.204565</td>\n      <td>-1.620440</td>\n      <td>-259.446800</td>\n      <td>4.695768</td>\n      <td>2.966538</td>\n      <td>4.796146</td>\n      <td>0.318664</td>\n      <td>4.562151</td>\n      <td>1.712156</td>\n      <td>2.310784</td>\n      <td>3.518887</td>\n      <td>2.675007</td>\n      <td>3.619724</td>\n      <td>24.832210</td>\n    </tr>\n    <tr>\n      <th>3</th>\n      <td>2.070508</td>\n      <td>4.304915</td>\n      <td>4.629582</td>\n      <td>-0.327478</td>\n      <td>-162.221712</td>\n      <td>4.146469</td>\n      <td>3.032776</td>\n      <td>2.446522</td>\n      <td>2.685872</td>\n      <td>4.596986</td>\n      <td>-0.258177</td>\n      <td>3.006083</td>\n      <td>3.024128</td>\n      <td>4.650399</td>\n      <td>4.298468</td>\n      <td>21.811595</td>\n    </tr>\n    <tr>\n      <th>4</th>\n      <td>2.129288</td>\n      <td>3.096763</td>\n      <td>1.756980</td>\n      <td>0.822618</td>\n      <td>-109.831568</td>\n      <td>4.598500</td>\n      <td>3.658609</td>\n      <td>3.389158</td>\n      <td>4.046742</td>\n      <td>0.546048</td>\n      <td>-0.638760</td>\n      <td>1.507549</td>\n      <td>2.028737</td>\n      <td>4.151604</td>\n      <td>4.274389</td>\n      <td>16.382843</td>\n    </tr>\n  </tbody>\n</table>\n</div>"
     },
     "execution_count": 33,
     "metadata": {},
     "output_type": "execute_result"
    }
   ],
   "source": [
    "df = pd.read_csv(\"GenData_LinReg.csv\")\n",
    "m = df.shape[0]\n",
    "numberOfFeatures = df.shape[1] - 1\n",
    "df.head()"
   ],
   "metadata": {
    "collapsed": false
   }
  },
  {
   "cell_type": "code",
   "execution_count": 34,
   "outputs": [
    {
     "data": {
      "text/plain": "x1         4.60517\nx2         4.60517\nx3         4.60517\ncorr1      4.60517\ncorr2      4.60517\nnoise1     4.60517\nnoise2     4.60517\nnoise3     4.60517\nnoise4     4.60517\nnoise5     4.60517\nnoise6     4.60517\nnoise7     4.60517\nnoise8     4.60517\nnoise9     4.60517\nnoise10    4.60517\ny          4.60517\ndtype: float64"
     },
     "execution_count": 31,
     "metadata": {},
     "output_type": "execute_result"
    },
    {
     "data": {
      "text/plain": "x1         4.60517\nx2         4.60517\nx3         4.60517\ncorr1      4.60517\ncorr2      4.60517\nnoise1     4.60517\nnoise2     4.60517\nnoise3     4.60517\nnoise4     4.60517\nnoise5     4.60517\nnoise6     4.60517\nnoise7     4.60517\nnoise8     4.60517\nnoise9     4.60517\nnoise10    4.60517\ny          4.60517\ndtype: float64"
     },
     "execution_count": 34,
     "metadata": {},
     "output_type": "execute_result"
    }
   ],
   "source": [
    "# Calculate the entropy of each column\n",
    "entropies = df.apply(lambda x: entropy(x.value_counts(normalize=True)), axis=0)\n",
    "entropies"
   ],
   "metadata": {
    "collapsed": false
   }
  },
  {
   "cell_type": "code",
   "execution_count": 35,
   "outputs": [],
   "source": [
    "def solutionGenerator(n,probVector):\n",
    "    solutionList = []\n",
    "    for i in range(0,n):\n",
    "        solution = []\n",
    "        for j in range(0,len(probVector)):\n",
    "            solution.append(bernoulli(probVector[j]).rvs())\n",
    "        #print(solution)\n",
    "        solutionList.append(solution)\n",
    "    return solutionList"
   ],
   "metadata": {
    "collapsed": false
   }
  },
  {
   "cell_type": "code",
   "execution_count": 36,
   "outputs": [],
   "source": [
    "def modelFit(solutionList):\n",
    "    df = pd.read_csv(\"GenData_LinReg.csv\")\n",
    "    mseList = []\n",
    "    for sol in solutionList:\n",
    "        X_train, X_test, y_train, y_test = train_test_split(df[['x1', 'x2', 'x3', 'corr1', 'corr2', 'noise1', 'noise2', 'noise3',\n",
    "       'noise4', 'noise5', 'noise6', 'noise7', 'noise8', 'noise9', 'noise10']], df['y'], test_size=0.3, random_state=42)\n",
    "\n",
    "        # Convert binary list to list of column indices\n",
    "        keep_cols = [i for i, x in enumerate(sol) if x]\n",
    "\n",
    "        # Use the `iloc` indexing function to select columns based on the list of column indices\n",
    "        X_train = X_train.iloc[:, keep_cols]\n",
    "        X_test = X_test.iloc[:, keep_cols]\n",
    "\n",
    "        # Create linear regression object\n",
    "        model = LinearRegression()\n",
    "\n",
    "        # Fit the model using the training data\n",
    "        model.fit(X_train, y_train)\n",
    "\n",
    "        # Make predictions on the test data\n",
    "        y_pred = model.predict(X_test)\n",
    "\n",
    "        # Calculate the mean squared error and R-squared on the test data\n",
    "        mse = mean_squared_error(y_test, y_pred)\n",
    "        mseList.append(mse)\n",
    "    performance = sum(mseList) / len(mseList)\n",
    "    return performance"
   ],
   "metadata": {
    "collapsed": false
   }
  },
  {
   "cell_type": "markdown",
   "source": [
    "# Example for Presentation on April 28th"
   ],
   "metadata": {
    "collapsed": false
   }
  },
  {
   "cell_type": "code",
   "execution_count": 37,
   "outputs": [
    {
     "name": "stdout",
     "output_type": "stream",
     "text": [
      "avg mse:  1.7442987931872278\n"
     ]
    }
   ],
   "source": [
    "p = [0.5] * numberOfFeatures\n",
    "p[1] = 1\n",
    "p[0] = 1\n",
    "#p[4] = 1\n",
    "#print(\"P: \", p)\n",
    "solList = solutionGenerator(10, p)\n",
    "\n",
    "mse = modelFit(solList)\n",
    "print(\"avg mse: \", mse/(10**7))"
   ],
   "metadata": {
    "collapsed": false
   }
  },
  {
   "cell_type": "code",
   "execution_count": 38,
   "outputs": [
    {
     "data": {
      "text/plain": "[[1, 1, 1, 0, 1, 1, 0, 1, 1, 0, 1, 0, 1, 1, 0],\n [1, 1, 0, 0, 1, 0, 0, 1, 1, 0, 0, 1, 1, 0, 0],\n [1, 1, 0, 0, 0, 1, 0, 0, 0, 0, 1, 0, 0, 0, 1],\n [1, 1, 0, 1, 0, 1, 1, 1, 0, 1, 1, 1, 0, 0, 0],\n [1, 1, 0, 0, 1, 0, 0, 0, 0, 1, 0, 1, 0, 1, 0],\n [1, 1, 0, 1, 1, 1, 1, 1, 1, 0, 0, 0, 0, 0, 1],\n [1, 1, 1, 1, 1, 0, 0, 1, 1, 1, 1, 0, 1, 0, 1],\n [1, 1, 0, 0, 0, 0, 0, 0, 1, 0, 0, 1, 0, 0, 1],\n [1, 1, 0, 0, 1, 1, 1, 0, 1, 0, 0, 0, 0, 1, 1],\n [1, 1, 0, 0, 0, 0, 0, 1, 1, 1, 1, 0, 0, 1, 1]]"
     },
     "execution_count": 38,
     "metadata": {},
     "output_type": "execute_result"
    }
   ],
   "source": [
    "solList"
   ],
   "metadata": {
    "collapsed": false
   }
  },
  {
   "cell_type": "code",
   "execution_count": 39,
   "outputs": [
    {
     "data": {
      "text/plain": "[10, 10, 2, 3, 6, 5, 3, 6, 7, 4, 5, 4, 3, 4, 6]"
     },
     "execution_count": 39,
     "metadata": {},
     "output_type": "execute_result"
    }
   ],
   "source": [
    "sum_list = [sum(col) for col in zip(*solList)]\n",
    "sum_list"
   ],
   "metadata": {
    "collapsed": false
   }
  },
  {
   "cell_type": "code",
   "execution_count": 40,
   "outputs": [
    {
     "data": {
      "text/plain": "[1,\n 1,\n 0.5,\n 0.5625,\n 0.75,\n 0.6875,\n 0.5625,\n 0.75,\n 0.8125,\n 0.625,\n 0.6875,\n 0.625,\n 0.5625,\n 0.625,\n 0.75]"
     },
     "execution_count": 40,
     "metadata": {},
     "output_type": "execute_result"
    }
   ],
   "source": [
    "min_value = min(sum_list)\n",
    "max_value = max(sum_list)\n",
    "\n",
    "portion_list = [(x - min_value) / (max_value - min_value) for x in sum_list]\n",
    "new_p=[0.5]*len(portion_list)\n",
    "for n in range(0,len(portion_list)):\n",
    "    new_p[n] = min(1,p[n]*(1+portion_list[n]))\n",
    "new_p"
   ],
   "metadata": {
    "collapsed": false
   }
  },
  {
   "cell_type": "code",
   "execution_count": 41,
   "outputs": [
    {
     "name": "stdout",
     "output_type": "stream",
     "text": [
      "P:  [0, 1, 0.5, 0.5, 0.5, 0.5, 0.5, 0.5, 0.5, 0.5, 0.5, 0.5, 0.5, 0.5, 0.5]\n",
      "avg mse:  0.37225051488857874\n"
     ]
    }
   ],
   "source": [
    "p = [0.5] * numberOfFeatures\n",
    "p[0] = 0\n",
    "p[1] = 1\n",
    "print(\"P: \", p)\n",
    "solList = solutionGenerator(10, p)\n",
    "\n",
    "mse = modelFit(solList)\n",
    "print(\"avg mse: \", mse/(10**7))"
   ],
   "metadata": {
    "collapsed": false
   }
  },
  {
   "cell_type": "code",
   "execution_count": 42,
   "outputs": [
    {
     "name": "stdout",
     "output_type": "stream",
     "text": [
      "P:  [0, 0, 0.5, 0.5, 0.5, 0.5, 0.5, 0.5, 0.5, 0.5, 0.5, 0.5, 0.5, 0.5, 0.5]\n",
      "avg mse:  0.5112131004744824\n"
     ]
    }
   ],
   "source": [
    "p = [0.5] * numberOfFeatures\n",
    "p[0] = 0\n",
    "p[1] = 0\n",
    "print(\"P: \", p)\n",
    "solList = solutionGenerator(10, p)\n",
    "\n",
    "mse = modelFit(solList)\n",
    "print(\"avg mse: \", mse/(10**7))"
   ],
   "metadata": {
    "collapsed": false
   }
  },
  {
   "cell_type": "code",
   "execution_count": 43,
   "outputs": [
    {
     "data": {
      "text/plain": "[[0, 0, 0, 0, 1, 0, 1, 1, 0, 0, 0, 1, 1, 0, 0],\n [0, 0, 1, 1, 1, 0, 1, 0, 1, 1, 1, 1, 1, 0, 0],\n [0, 0, 0, 0, 1, 0, 1, 0, 1, 1, 1, 1, 1, 0, 1],\n [0, 0, 1, 1, 0, 0, 0, 1, 1, 0, 0, 1, 0, 1, 1],\n [0, 0, 0, 0, 1, 1, 1, 1, 1, 0, 0, 0, 1, 0, 1],\n [0, 0, 1, 1, 1, 1, 1, 0, 1, 0, 1, 1, 1, 0, 1],\n [0, 0, 1, 0, 1, 1, 0, 1, 0, 0, 1, 0, 0, 1, 0],\n [0, 0, 1, 0, 0, 1, 1, 0, 0, 0, 1, 0, 0, 0, 1],\n [0, 0, 1, 1, 1, 1, 1, 1, 0, 0, 0, 0, 1, 1, 0],\n [0, 0, 0, 0, 1, 1, 0, 0, 1, 0, 1, 0, 0, 1, 0]]"
     },
     "execution_count": 43,
     "metadata": {},
     "output_type": "execute_result"
    }
   ],
   "source": [
    "solList"
   ],
   "metadata": {
    "collapsed": false
   }
  },
  {
   "cell_type": "code",
   "execution_count": 44,
   "outputs": [
    {
     "data": {
      "text/plain": "[1.5692141883605017,\n 0.23325369010486655,\n 1.8987491679162074,\n 0.13166562715303984,\n 0.6050000000000001,\n 0.7320500000000003,\n 0.5,\n 0.8857805000000005,\n 1.0717944050000008,\n 1.2968712300500012,\n 0.28223696502688855,\n 0.4132231404958676,\n 0.15931540885517823,\n 0.34150672768253515,\n 0.19277164471476568]"
     },
     "execution_count": 22,
     "metadata": {},
     "output_type": "execute_result"
    },
    {
     "data": {
      "text/plain": "[1.5692141883605017,\n 0.23325369010486655,\n 1.8987491679162074,\n 0.13166562715303984,\n 0.6050000000000001,\n 0.7320500000000003,\n 0.5,\n 0.8857805000000005,\n 1.0717944050000008,\n 1.2968712300500012,\n 0.28223696502688855,\n 0.4132231404958676,\n 0.15931540885517823,\n 0.34150672768253515,\n 0.19277164471476568]"
     },
     "execution_count": 44,
     "metadata": {},
     "output_type": "execute_result"
    }
   ],
   "source": [
    "#given branch x1=0\n",
    "p = [0.5] * numberOfFeatures\n",
    "def updateP(p):\n",
    "    k_max = 1\n",
    "    for k in range(0,k_max):\n",
    "        for i in range(0,numberOfFeatures):\n",
    "            for j in range(0,numberOfFeatures):\n",
    "                #print(\"===================\")\n",
    "                p_i_out = [1]*numberOfFeatures\n",
    "                p_i_out[i] = 0\n",
    "                i_out = solutionGenerator(10, p_i_out)\n",
    "\n",
    "                p_j_out = [1]*numberOfFeatures\n",
    "                p_j_out[j] = 0\n",
    "                j_out = solutionGenerator(10, p_j_out)\n",
    "\n",
    "\n",
    "                performance_i_out = modelFit(i_out)\n",
    "                performance_j_out = modelFit(j_out)\n",
    "                if performance_i_out >= performance_j_out:\n",
    "                    p[i] *= 1.1\n",
    "                    p[j] /= 1.1\n",
    "                #print(\"i=\",i,\"j=\",j)\n",
    "                #print(\"--\")\n",
    "                #print(p)\n",
    "        #print(\"Finished!: \",p)\n",
    "    return p\n",
    "\n",
    "# print\n",
    "updateP(p)"
   ],
   "metadata": {
    "collapsed": false
   }
  },
  {
   "cell_type": "code",
   "execution_count": 45,
   "outputs": [
    {
     "data": {
      "text/plain": "[[1, 0, 1], [0, 0, 0], [1, 0, 0], [1, 0, 1], [1, 0, 0]]"
     },
     "execution_count": 23,
     "metadata": {},
     "output_type": "execute_result"
    },
    {
     "data": {
      "text/plain": "[[1, 0, 0], [1, 0, 0], [1, 0, 0], [1, 0, 0], [1, 0, 1]]"
     },
     "execution_count": 45,
     "metadata": {},
     "output_type": "execute_result"
    }
   ],
   "source": [
    "solutionGenerator(5,[0.9,0.0,0.2])"
   ],
   "metadata": {
    "collapsed": false
   }
  },
  {
   "cell_type": "code",
   "execution_count": 46,
   "outputs": [],
   "source": [
    "#main code\n",
    "p = [0.5] * numberOfFeatures\n",
    "\n",
    "includeFeature = []\n",
    "notIncludeFeature = []\n",
    "SurroundingFeature = []\n",
    "\n",
    "treeLevel = 1\n",
    "# BUG: The a1 is changing\n",
    "pInclude = p.copy()\n",
    "pInclude[treeLevel] = 1\n",
    "solutionInclude = solutionGenerator(10, pInclude)\n",
    "\n",
    "pNotInclude = p.copy()\n",
    "pNotInclude[treeLevel] = 0\n",
    "solutionNotInclude = solutionGenerator(10, pNotInclude)\n",
    "\n",
    "# BUG: THE PARTITIONS ---> INCLUDE/EXCLUDE\n",
    "pSurrounding = p.copy()\n",
    "pSurrounding[treeLevel-1] = 1\n",
    "solutionSurrounding = solutionGenerator(10, pSurrounding)\n",
    "\n",
    "mseInclude = modelFit(solutionInclude)\n",
    "\n",
    "mseNotInclude = modelFit(solutionNotInclude)\n",
    "\n",
    "if mseInclude < mseNotInclude:\n",
    "    p[treeLevel] = min(p[treeLevel]*1.01,1)\n",
    "else:\n",
    "    p[treeLevel] = min(p[treeLevel]/1.01,1)\n",
    "\n",
    "#if (mseInclude+mseNotInclude)/2:\n",
    "#    print(\"Need Backtrack\")"
   ],
   "metadata": {
    "collapsed": false
   }
  },
  {
   "cell_type": "code",
   "execution_count": 47,
   "outputs": [
    {
     "data": {
      "text/plain": "43065207.41348679"
     },
     "execution_count": 25,
     "metadata": {},
     "output_type": "execute_result"
    },
    {
     "data": {
      "text/plain": "31330928.288732618"
     },
     "execution_count": 47,
     "metadata": {},
     "output_type": "execute_result"
    }
   ],
   "source": [
    "mseInclude"
   ],
   "metadata": {
    "collapsed": false
   }
  },
  {
   "cell_type": "code",
   "execution_count": 48,
   "outputs": [
    {
     "data": {
      "text/plain": "47559754.00600127"
     },
     "execution_count": 26,
     "metadata": {},
     "output_type": "execute_result"
    },
    {
     "data": {
      "text/plain": "39063103.439355835"
     },
     "execution_count": 48,
     "metadata": {},
     "output_type": "execute_result"
    }
   ],
   "source": [
    "mseNotInclude"
   ],
   "metadata": {
    "collapsed": false
   }
  },
  {
   "cell_type": "code",
   "execution_count": 49,
   "outputs": [
    {
     "data": {
      "text/plain": "[0.5, 0.505, 0.5, 0.5, 0.5, 0.5, 0.5, 0.5, 0.5, 0.5, 0.5, 0.5, 0.5, 0.5, 0.5]"
     },
     "execution_count": 27,
     "metadata": {},
     "output_type": "execute_result"
    },
    {
     "data": {
      "text/plain": "[0.5, 0.505, 0.5, 0.5, 0.5, 0.5, 0.5, 0.5, 0.5, 0.5, 0.5, 0.5, 0.5, 0.5, 0.5]"
     },
     "execution_count": 49,
     "metadata": {},
     "output_type": "execute_result"
    }
   ],
   "source": [
    "p"
   ],
   "metadata": {
    "collapsed": false
   }
  },
  {
   "cell_type": "code",
   "execution_count": 50,
   "outputs": [
    {
     "data": {
      "text/plain": "[[0, 1, 0, 1, 1, 0, 1, 0, 0, 0, 1, 1, 0, 1, 1],\n [1, 1, 1, 0, 0, 1, 1, 1, 0, 0, 1, 0, 1, 0, 0],\n [1, 1, 0, 0, 1, 0, 1, 0, 1, 0, 0, 0, 1, 1, 0],\n [1, 1, 0, 0, 1, 1, 1, 0, 1, 0, 1, 1, 0, 0, 0],\n [1, 1, 0, 1, 1, 1, 1, 1, 1, 0, 1, 1, 0, 1, 0],\n [1, 1, 1, 0, 0, 1, 1, 0, 0, 0, 0, 0, 0, 1, 0],\n [0, 1, 0, 1, 1, 1, 1, 0, 1, 1, 0, 0, 1, 1, 1],\n [0, 1, 0, 1, 0, 0, 0, 0, 1, 0, 1, 1, 1, 0, 1],\n [0, 1, 1, 1, 1, 0, 0, 1, 1, 1, 1, 0, 0, 1, 0],\n [0, 1, 1, 1, 0, 0, 1, 1, 0, 1, 0, 1, 1, 0, 0]]"
     },
     "execution_count": 28,
     "metadata": {},
     "output_type": "execute_result"
    },
    {
     "data": {
      "text/plain": "[[0, 1, 1, 0, 1, 1, 1, 1, 0, 1, 0, 1, 1, 0, 1],\n [0, 1, 0, 0, 0, 0, 0, 0, 1, 0, 0, 0, 0, 0, 0],\n [1, 1, 0, 0, 0, 1, 0, 1, 0, 1, 1, 1, 0, 0, 1],\n [1, 1, 1, 1, 1, 1, 1, 1, 1, 0, 1, 0, 1, 0, 0],\n [0, 1, 0, 1, 1, 0, 1, 1, 1, 0, 1, 0, 0, 1, 1],\n [0, 1, 1, 0, 0, 0, 1, 0, 1, 0, 1, 1, 1, 0, 0],\n [1, 1, 0, 1, 1, 0, 1, 0, 1, 0, 0, 1, 1, 1, 1],\n [0, 1, 0, 0, 0, 0, 0, 0, 1, 1, 1, 0, 0, 0, 1],\n [0, 1, 1, 1, 0, 0, 1, 0, 0, 1, 1, 0, 0, 0, 1],\n [1, 1, 0, 1, 0, 1, 1, 0, 1, 1, 1, 0, 1, 0, 0]]"
     },
     "execution_count": 50,
     "metadata": {},
     "output_type": "execute_result"
    }
   ],
   "source": [
    "solutionInclude"
   ],
   "metadata": {
    "collapsed": false
   }
  }
 ],
 "metadata": {
  "kernelspec": {
   "display_name": "Python 3",
   "language": "python",
   "name": "python3"
  },
  "language_info": {
   "codemirror_mode": {
    "name": "ipython",
    "version": 2
   },
   "file_extension": ".py",
   "mimetype": "text/x-python",
   "name": "python",
   "nbconvert_exporter": "python",
   "pygments_lexer": "ipython2",
   "version": "2.7.6"
  }
 },
 "nbformat": 4,
 "nbformat_minor": 0
}
