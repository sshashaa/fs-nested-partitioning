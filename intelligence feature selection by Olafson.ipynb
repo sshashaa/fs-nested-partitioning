{
 "cells": [
  {
   "cell_type": "markdown",
   "source": [
    "# Optimization-based feature selection with adaptive instance sampling"
   ],
   "metadata": {
    "collapsed": false
   }
  },
  {
   "cell_type": "code",
   "execution_count": 143,
   "outputs": [],
   "source": [
    "import pandas as pd\n",
    "import numpy as np"
   ],
   "metadata": {
    "collapsed": false
   }
  },
  {
   "cell_type": "code",
   "execution_count": 144,
   "outputs": [
    {
     "data": {
      "text/plain": "     y  x1  x2  x3  x4  c\n0  154   8  20   4  42  2\n1  196   9  22   5  49  2\n2  198  10  19   4  57  1\n3  178   9  19   3  47  2\n4  157   9  18   4  65  2",
      "text/html": "<div>\n<style scoped>\n    .dataframe tbody tr th:only-of-type {\n        vertical-align: middle;\n    }\n\n    .dataframe tbody tr th {\n        vertical-align: top;\n    }\n\n    .dataframe thead th {\n        text-align: right;\n    }\n</style>\n<table border=\"1\" class=\"dataframe\">\n  <thead>\n    <tr style=\"text-align: right;\">\n      <th></th>\n      <th>y</th>\n      <th>x1</th>\n      <th>x2</th>\n      <th>x3</th>\n      <th>x4</th>\n      <th>c</th>\n    </tr>\n  </thead>\n  <tbody>\n    <tr>\n      <th>0</th>\n      <td>154</td>\n      <td>8</td>\n      <td>20</td>\n      <td>4</td>\n      <td>42</td>\n      <td>2</td>\n    </tr>\n    <tr>\n      <th>1</th>\n      <td>196</td>\n      <td>9</td>\n      <td>22</td>\n      <td>5</td>\n      <td>49</td>\n      <td>2</td>\n    </tr>\n    <tr>\n      <th>2</th>\n      <td>198</td>\n      <td>10</td>\n      <td>19</td>\n      <td>4</td>\n      <td>57</td>\n      <td>1</td>\n    </tr>\n    <tr>\n      <th>3</th>\n      <td>178</td>\n      <td>9</td>\n      <td>19</td>\n      <td>3</td>\n      <td>47</td>\n      <td>2</td>\n    </tr>\n    <tr>\n      <th>4</th>\n      <td>157</td>\n      <td>9</td>\n      <td>18</td>\n      <td>4</td>\n      <td>65</td>\n      <td>2</td>\n    </tr>\n  </tbody>\n</table>\n</div>"
     },
     "execution_count": 144,
     "metadata": {},
     "output_type": "execute_result"
    }
   ],
   "source": [
    "df = pd.read_excel(\"hypothetical data.xlsx\",sheet_name=\"static\")\n",
    "m = df.shape[0]\n",
    "df.head()"
   ],
   "metadata": {
    "collapsed": false
   }
  },
  {
   "cell_type": "code",
   "execution_count": 160,
   "outputs": [],
   "source": [
    "import math\n",
    "c = len(df.c.unique())\n",
    "\n",
    "def func_s(df,T_Independent_Variables):\n",
    "    features_list = list(T_Independent_Variables.columns)\n",
    "    i_list = list(df['c'].unique())\n",
    "    s = {}\n",
    "    S = {}\n",
    "    p = {}\n",
    "    p_IT = {}\n",
    "    q = {}\n",
    "    I = {}\n",
    "    E = {}\n",
    "    Gain = {}\n",
    "    # calculate s, S\n",
    "    for a in features_list:\n",
    "        for j in T_Independent_Variables[a].unique():\n",
    "            S[(j,a)] = 0\n",
    "            q[j,a] = 0\n",
    "            for i in i_list:\n",
    "                filtered_df = df.loc[(df[a] == j) & (df['c'] == i)]\n",
    "                count = filtered_df[a].count()\n",
    "                s[(i,j,a)] = count\n",
    "                S[(j,a)] += count\n",
    "\n",
    "            q[j,a] = S[j,a]/m\n",
    "    # print(\"q\",q)\n",
    "    # calculate p, I\n",
    "    for a in features_list:\n",
    "        for j in T_Independent_Variables[a].unique():\n",
    "            I[j,a] = 0\n",
    "            for i in i_list:\n",
    "                p[i,j,a] = s[i,j,a]/S[j,a]\n",
    "                if p[i,j,a]>0:\n",
    "                    I[(j,a)] += (-1) * p[i,j,a] * math.log2(p[i,j,a])\n",
    "\n",
    "    # calculate IT\n",
    "    IT = 0\n",
    "    for i in i_list:\n",
    "        for a in features_list:\n",
    "            p_IT[i,a] = 0\n",
    "            for j in T_Independent_Variables[a].unique():\n",
    "                p_IT[i,a] += s[i,j,a]/m\n",
    "            IT += (-1) * p_IT[i,a] * math.log2(p_IT[i,a])\n",
    "\n",
    "    # calculate E\n",
    "    for a in features_list:\n",
    "        E[a] = 0\n",
    "        for j in T_Independent_Variables[a].unique():\n",
    "            E[a] += q[j,a] * I[j,a]\n",
    "        Gain[a] = IT - E[a]\n",
    "    # sorting\n",
    "    sorted_E = {k: v for k, v in sorted(E.items(), key=lambda item: item[1])}\n",
    "    print(sorted_E)\n",
    "    return Gain\n",
    "\n",
    "\n"
   ],
   "metadata": {
    "collapsed": false
   }
  },
  {
   "cell_type": "code",
   "execution_count": 161,
   "outputs": [],
   "source": [
    "T_Independent_Variables = df.drop(['y', 'c'], axis=1)\n",
    "\n",
    "features_list = list(T_Independent_Variables.columns)"
   ],
   "metadata": {
    "collapsed": false
   }
  },
  {
   "cell_type": "code",
   "execution_count": 162,
   "outputs": [
    {
     "name": "stdout",
     "output_type": "stream",
     "text": [
      "{'x4': 0.6329331487002061, 'x2': 0.9138894366941896, 'x1': 0.9399461579865102, 'x3': 0.9646233349152583}\n"
     ]
    },
    {
     "data": {
      "text/plain": "{'x1': 3.0588996090247296,\n 'x2': 3.08495633031705,\n 'x3': 3.0342224320959814,\n 'x4': 3.3659126183110333}"
     },
     "execution_count": 162,
     "metadata": {},
     "output_type": "execute_result"
    }
   ],
   "source": [
    "func_s(df,T_Independent_Variables)"
   ],
   "metadata": {
    "collapsed": false
   }
  },
  {
   "cell_type": "code",
   "execution_count": 114,
   "outputs": [
    {
     "data": {
      "text/plain": "Index(['y', 'x1', 'x2', 'x3', 'x4', 'c'], dtype='object')"
     },
     "execution_count": 114,
     "metadata": {},
     "output_type": "execute_result"
    }
   ],
   "source": [
    "df.columns"
   ],
   "metadata": {
    "collapsed": false
   }
  },
  {
   "cell_type": "code",
   "execution_count": 115,
   "outputs": [
    {
     "data": {
      "text/plain": "Index(['y', 'x1', 'x2', 'x3', 'x4', 'c'], dtype='object')"
     },
     "execution_count": 115,
     "metadata": {},
     "output_type": "execute_result"
    }
   ],
   "source": [
    "df.columns"
   ],
   "metadata": {
    "collapsed": false
   }
  },
  {
   "cell_type": "markdown",
   "source": [],
   "metadata": {
    "collapsed": false
   }
  },
  {
   "cell_type": "code",
   "execution_count": 163,
   "outputs": [
    {
     "data": {
      "text/plain": "array([ 8,  9, 10, 11,  6,  7, 12], dtype=int64)"
     },
     "execution_count": 163,
     "metadata": {},
     "output_type": "execute_result"
    }
   ],
   "source": [
    "df[features_list[0]].unique()\n"
   ],
   "metadata": {
    "collapsed": false
   }
  },
  {
   "cell_type": "code",
   "execution_count": null,
   "outputs": [],
   "source": [],
   "metadata": {
    "collapsed": false
   }
  },
  {
   "cell_type": "code",
   "execution_count": null,
   "outputs": [],
   "source": [],
   "metadata": {
    "collapsed": false
   }
  },
  {
   "cell_type": "code",
   "execution_count": null,
   "outputs": [],
   "source": [],
   "metadata": {
    "collapsed": false
   }
  },
  {
   "cell_type": "code",
   "execution_count": null,
   "outputs": [],
   "source": [],
   "metadata": {
    "collapsed": false
   }
  },
  {
   "cell_type": "code",
   "execution_count": null,
   "outputs": [],
   "source": [],
   "metadata": {
    "collapsed": false
   }
  },
  {
   "cell_type": "code",
   "execution_count": null,
   "outputs": [],
   "source": [],
   "metadata": {
    "collapsed": false
   }
  },
  {
   "cell_type": "code",
   "execution_count": null,
   "outputs": [],
   "source": [],
   "metadata": {
    "collapsed": false
   }
  },
  {
   "cell_type": "code",
   "execution_count": null,
   "outputs": [],
   "source": [],
   "metadata": {
    "collapsed": false
   }
  },
  {
   "cell_type": "code",
   "execution_count": null,
   "outputs": [],
   "source": [],
   "metadata": {
    "collapsed": false
   }
  },
  {
   "cell_type": "code",
   "execution_count": null,
   "outputs": [],
   "source": [],
   "metadata": {
    "collapsed": false
   }
  }
 ],
 "metadata": {
  "kernelspec": {
   "display_name": "Python 3",
   "language": "python",
   "name": "python3"
  },
  "language_info": {
   "codemirror_mode": {
    "name": "ipython",
    "version": 2
   },
   "file_extension": ".py",
   "mimetype": "text/x-python",
   "name": "python",
   "nbconvert_exporter": "python",
   "pygments_lexer": "ipython2",
   "version": "2.7.6"
  }
 },
 "nbformat": 4,
 "nbformat_minor": 0
}
