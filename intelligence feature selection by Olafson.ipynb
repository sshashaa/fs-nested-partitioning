{
 "cells": [
  {
   "cell_type": "markdown",
   "metadata": {},
   "source": [
    "## 1.1. Updating Probablities using Olafson Paper"
   ]
  },
  {
   "cell_type": "code",
   "execution_count": 15,
   "metadata": {},
   "outputs": [],
   "source": [
    "import pandas as pd\n",
    "import numpy as np\n",
    "from scipy.stats import bernoulli"
   ]
  },
  {
   "cell_type": "code",
   "execution_count": 2,
   "metadata": {},
   "outputs": [
    {
     "data": {
      "text/plain": "     y  x1  x2  x3  x4  c\n0  154   8  20   4  42  2\n1  196   9  22   5  49  2\n2  198  10  19   4  57  1\n3  178   9  19   3  47  2\n4  157   9  18   4  65  2",
      "text/html": "<div>\n<style scoped>\n    .dataframe tbody tr th:only-of-type {\n        vertical-align: middle;\n    }\n\n    .dataframe tbody tr th {\n        vertical-align: top;\n    }\n\n    .dataframe thead th {\n        text-align: right;\n    }\n</style>\n<table border=\"1\" class=\"dataframe\">\n  <thead>\n    <tr style=\"text-align: right;\">\n      <th></th>\n      <th>y</th>\n      <th>x1</th>\n      <th>x2</th>\n      <th>x3</th>\n      <th>x4</th>\n      <th>c</th>\n    </tr>\n  </thead>\n  <tbody>\n    <tr>\n      <th>0</th>\n      <td>154</td>\n      <td>8</td>\n      <td>20</td>\n      <td>4</td>\n      <td>42</td>\n      <td>2</td>\n    </tr>\n    <tr>\n      <th>1</th>\n      <td>196</td>\n      <td>9</td>\n      <td>22</td>\n      <td>5</td>\n      <td>49</td>\n      <td>2</td>\n    </tr>\n    <tr>\n      <th>2</th>\n      <td>198</td>\n      <td>10</td>\n      <td>19</td>\n      <td>4</td>\n      <td>57</td>\n      <td>1</td>\n    </tr>\n    <tr>\n      <th>3</th>\n      <td>178</td>\n      <td>9</td>\n      <td>19</td>\n      <td>3</td>\n      <td>47</td>\n      <td>2</td>\n    </tr>\n    <tr>\n      <th>4</th>\n      <td>157</td>\n      <td>9</td>\n      <td>18</td>\n      <td>4</td>\n      <td>65</td>\n      <td>2</td>\n    </tr>\n  </tbody>\n</table>\n</div>"
     },
     "execution_count": 2,
     "metadata": {},
     "output_type": "execute_result"
    }
   ],
   "source": [
    "df = pd.read_excel(\"hypothetical data.xlsx\",sheet_name=\"static\")\n",
    "m = df.shape[0]\n",
    "df.head()"
   ]
  },
  {
   "cell_type": "code",
   "execution_count": 22,
   "metadata": {},
   "outputs": [],
   "source": [
    "import math\n",
    "c = len(df.c.unique())\n",
    "\n",
    "def func_gain(df,T_Independent_Variables):\n",
    "    features_list = list(T_Independent_Variables.columns)\n",
    "    i_list = list(df['c'].unique())\n",
    "    s = {}\n",
    "    S = {}\n",
    "    p = {}\n",
    "    p_IT = {}\n",
    "    q = {}\n",
    "    I = {}\n",
    "    E = {}\n",
    "    Gain = {}\n",
    "    ProbVector = {}\n",
    "    # calculate s, S\n",
    "    for a in features_list:\n",
    "        for j in T_Independent_Variables[a].unique():\n",
    "            S[(j,a)] = 0\n",
    "            q[j,a] = 0\n",
    "            for i in i_list:\n",
    "                filtered_df = df.loc[(df[a] == j) & (df['c'] == i)]\n",
    "                count = filtered_df[a].count()\n",
    "                s[(i,j,a)] = count\n",
    "                S[(j,a)] += count\n",
    "\n",
    "            q[j,a] = S[j,a]/m\n",
    "    # print(\"q\",q)\n",
    "    # calculate p, I\n",
    "    for a in features_list:\n",
    "        for j in T_Independent_Variables[a].unique():\n",
    "            I[j,a] = 0\n",
    "            for i in i_list:\n",
    "                p[i,j,a] = s[i,j,a]/S[j,a]\n",
    "                if p[i,j,a]>0:\n",
    "                    I[(j,a)] += (-1) * p[i,j,a] * math.log2(p[i,j,a])\n",
    "\n",
    "    # calculate IT\n",
    "    IT = 0\n",
    "    for i in i_list:\n",
    "        for a in features_list:\n",
    "            p_IT[i,a] = 0\n",
    "            for j in T_Independent_Variables[a].unique():\n",
    "                p_IT[i,a] += s[i,j,a]/m\n",
    "            IT += (-1) * p_IT[i,a] * math.log2(p_IT[i,a])\n",
    "\n",
    "    # calculate E\n",
    "    for a in features_list:\n",
    "        E[a] = 0\n",
    "        ProbVector[a] = 0\n",
    "        for j in T_Independent_Variables[a].unique():\n",
    "            E[a] += q[j,a] * I[j,a]\n",
    "        Gain[a] = IT - E[a]\n",
    "    # sorting\n",
    "    sorted_E = {k: v for k, v in sorted(E.items(), key=lambda item: item[1])}\n",
    "    total_gain = sum(Gain.values())  # Step 1\n",
    "\n",
    "    for key in Gain:  # Step 2\n",
    "        ProbVector[key] = Gain[key] / total_gain\n",
    "\n",
    "    #print(\"ProbVector\", ProbVector)\n",
    "    return ProbVector\n",
    "\n",
    "\n"
   ]
  },
  {
   "cell_type": "code",
   "execution_count": 12,
   "metadata": {},
   "outputs": [],
   "source": [
    "T_Independent_Variables = df.drop(['y', 'c'], axis=1)\n",
    "\n",
    "features_list = list(T_Independent_Variables.columns)"
   ]
  },
  {
   "cell_type": "code",
   "execution_count": 13,
   "metadata": {},
   "outputs": [
    {
     "name": "stdout",
     "output_type": "stream",
     "text": [
      "ProbVector {'x1': 0.24385377919392037, 'x2': 0.2459310065543047, 'x3': 0.24188652834457627, 'x4': 0.26832868590719855}\n"
     ]
    },
    {
     "data": {
      "text/plain": "{'x1': 0.24385377919392037,\n 'x2': 0.2459310065543047,\n 'x3': 0.24188652834457627,\n 'x4': 0.26832868590719855}"
     },
     "execution_count": 13,
     "metadata": {},
     "output_type": "execute_result"
    }
   ],
   "source": [
    "func_gain(df,T_Independent_Variables)"
   ]
  },
  {
   "cell_type": "markdown",
   "source": [
    "## 1.2. Updating Probablities using Greedy method"
   ],
   "metadata": {
    "collapsed": false
   }
  },
  {
   "cell_type": "code",
   "execution_count": null,
   "metadata": {},
   "outputs": [],
   "source": [
    "def mean_squared_error(y, x1, x2, x3, x4):\n",
    "    y_pred = x1*x2\n",
    "    loss = np.mean((y - y_pred)**2)\n",
    "    return loss\n",
    "\n",
    "def loss_calculator(df,a):\n",
    "    df['Loss'] = df.apply(lambda row: mean_squared_error(row['y'], a[0]*row['x1'], a[1]*row['x2'], a[2]*row['x3'], a[3]*row['x4']), axis=1)\n",
    "    return df\n",
    "\n",
    "def performance_calculator(sampled_df,a,i):\n",
    "    a[i] = 0\n",
    "    loss_calculator(sampled_df,a)\n",
    "    mean = sampled_df['Loss'].mean()\n",
    "    a[i] = 1\n",
    "    return mean"
   ]
  },
  {
   "cell_type": "markdown",
   "source": [
    "## 2. Generating Solutions"
   ],
   "metadata": {
    "collapsed": false
   }
  },
  {
   "cell_type": "code",
   "execution_count": 46,
   "metadata": {},
   "outputs": [],
   "source": [
    "def solution_generator(n,ProbVector,excluded_features):\n",
    "\n",
    "    solution_list = []\n",
    "    for i in range(0,n):\n",
    "        solution = {}\n",
    "        for a in features_list:\n",
    "            if a in excluded_features:\n",
    "                solution[a] = 0\n",
    "            else:\n",
    "                solution[a] = bernoulli(ProbVector[a]).rvs()\n",
    "        #print(solution)\n",
    "        solution_list.append(solution)\n",
    "\n",
    "    return solution_list"
   ]
  },
  {
   "cell_type": "code",
   "execution_count": 47,
   "metadata": {},
   "outputs": [
    {
     "data": {
      "text/plain": "[{'x1': 0, 'x2': 0, 'x3': 0, 'x4': 1},\n {'x1': 0, 'x2': 1, 'x3': 1, 'x4': 1},\n {'x1': 0, 'x2': 1, 'x3': 1, 'x4': 1},\n {'x1': 0, 'x2': 0, 'x3': 1, 'x4': 0},\n {'x1': 0, 'x2': 1, 'x3': 1, 'x4': 0},\n {'x1': 0, 'x2': 0, 'x3': 0, 'x4': 1},\n {'x1': 0, 'x2': 0, 'x3': 0, 'x4': 0},\n {'x1': 0, 'x2': 0, 'x3': 1, 'x4': 1},\n {'x1': 0, 'x2': 1, 'x3': 0, 'x4': 1},\n {'x1': 0, 'x2': 0, 'x3': 0, 'x4': 0}]"
     },
     "execution_count": 47,
     "metadata": {},
     "output_type": "execute_result"
    }
   ],
   "source": [
    "ProbVector = func_gain(df,T_Independent_Variables)\n",
    "\n",
    "solution_generator(10,ProbVector,['x1'])"
   ]
  },
  {
   "cell_type": "code",
   "execution_count": null,
   "metadata": {},
   "outputs": [],
   "source": []
  },
  {
   "cell_type": "code",
   "execution_count": null,
   "metadata": {},
   "outputs": [],
   "source": []
  }
 ],
 "metadata": {
  "kernelspec": {
   "display_name": "Python 3",
   "language": "python",
   "name": "python3"
  },
  "language_info": {
   "codemirror_mode": {
    "name": "ipython",
    "version": 2
   },
   "file_extension": ".py",
   "mimetype": "text/x-python",
   "name": "python",
   "nbconvert_exporter": "python",
   "pygments_lexer": "ipython2",
   "version": "2.7.6"
  }
 },
 "nbformat": 4,
 "nbformat_minor": 1
}
