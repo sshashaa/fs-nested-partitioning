{
 "cells": [
  {
   "cell_type": "markdown",
   "source": [
    "# Define entropy"
   ],
   "metadata": {
    "collapsed": false
   }
  },
  {
   "cell_type": "code",
   "execution_count": 4,
   "outputs": [],
   "source": [
    "import pandas as pd\n",
    "import numpy as np"
   ],
   "metadata": {
    "collapsed": false
   }
  },
  {
   "cell_type": "code",
   "execution_count": 16,
   "outputs": [
    {
     "data": {
      "text/plain": "            y         x1         x2        x3         x4  c\n0  209.243988  10.512692  20.299629  2.572243  56.094400  2\n1  180.813118   9.443407  18.284721  4.570159  47.547308  1\n2  215.933346  10.924296  20.512234  4.641844  53.150497  2\n3  191.899247   9.694745  18.797090  4.472520  45.323743  2\n4  250.048339  10.670259  23.214880  5.402460  64.529068  1",
      "text/html": "<div>\n<style scoped>\n    .dataframe tbody tr th:only-of-type {\n        vertical-align: middle;\n    }\n\n    .dataframe tbody tr th {\n        vertical-align: top;\n    }\n\n    .dataframe thead th {\n        text-align: right;\n    }\n</style>\n<table border=\"1\" class=\"dataframe\">\n  <thead>\n    <tr style=\"text-align: right;\">\n      <th></th>\n      <th>y</th>\n      <th>x1</th>\n      <th>x2</th>\n      <th>x3</th>\n      <th>x4</th>\n      <th>c</th>\n    </tr>\n  </thead>\n  <tbody>\n    <tr>\n      <th>0</th>\n      <td>209.243988</td>\n      <td>10.512692</td>\n      <td>20.299629</td>\n      <td>2.572243</td>\n      <td>56.094400</td>\n      <td>2</td>\n    </tr>\n    <tr>\n      <th>1</th>\n      <td>180.813118</td>\n      <td>9.443407</td>\n      <td>18.284721</td>\n      <td>4.570159</td>\n      <td>47.547308</td>\n      <td>1</td>\n    </tr>\n    <tr>\n      <th>2</th>\n      <td>215.933346</td>\n      <td>10.924296</td>\n      <td>20.512234</td>\n      <td>4.641844</td>\n      <td>53.150497</td>\n      <td>2</td>\n    </tr>\n    <tr>\n      <th>3</th>\n      <td>191.899247</td>\n      <td>9.694745</td>\n      <td>18.797090</td>\n      <td>4.472520</td>\n      <td>45.323743</td>\n      <td>2</td>\n    </tr>\n    <tr>\n      <th>4</th>\n      <td>250.048339</td>\n      <td>10.670259</td>\n      <td>23.214880</td>\n      <td>5.402460</td>\n      <td>64.529068</td>\n      <td>1</td>\n    </tr>\n  </tbody>\n</table>\n</div>"
     },
     "execution_count": 16,
     "metadata": {},
     "output_type": "execute_result"
    }
   ],
   "source": [
    "df = pd.read_excel(\"hypothetical data.xlsx\",sheet_name=\"static\")\n",
    "df.head()"
   ],
   "metadata": {
    "collapsed": false
   }
  },
  {
   "cell_type": "code",
   "execution_count": null,
   "outputs": [],
   "source": [
    "import math\n",
    "c = len(df.c.unique())\n",
    "\n",
    "def func_I(T): # equation 3\n",
    "    I = 0\n",
    "    for i in range(1,c):\n",
    "        I += p[i] * math.log2(p[i])\n",
    "    return (-1)*I\n",
    "\n",
    "def func_E(a): # equation 4\n",
    "    E = 0\n",
    "    for j in range(1,v):\n",
    "        E += q[j,a]*I[j,a]\n",
    "    return E\n",
    "\n",
    "def func_I(j,a): # equation 5\n",
    "    p[i,j] = s[i,j,a] / S[j,a]\n",
    "    I[j,a] = 0\n",
    "    for i in range(1,c):\n",
    "        I[j,a] += p[i,j] * math.log2(p[i,j])\n",
    "    return (-1)*I\n",
    "\n",
    "def func_s(T_Independent_Variables,):\n",
    "    features_list = list(T_Independent_Variables.columns)\n",
    "    v = len(features_list)\n",
    "    s = []\n",
    "    for a in features_list:\n",
    "        for i in range(1,c):\n",
    "            for j in range(1,df[a].unique()):\n",
    "                print(a,i,j)\n",
    "\n",
    "\n",
    "def func_S(j,a):\n",
    "    S[j,a] = 0\n",
    "    for i in range(1,c):\n",
    "        S[j,a] += s[i,j,a]\n",
    "\n",
    "\n",
    "def func_Gain(T,a):\n",
    "    gain = func_I(T) - func_E(a)\n",
    "    return gain"
   ],
   "metadata": {
    "collapsed": false
   }
  },
  {
   "cell_type": "code",
   "execution_count": 17,
   "outputs": [
    {
     "data": {
      "text/plain": "Index(['y', 'x1', 'x2', 'x3', 'x4', 'c'], dtype='object')"
     },
     "execution_count": 17,
     "metadata": {},
     "output_type": "execute_result"
    }
   ],
   "source": [
    "df.columns"
   ],
   "metadata": {
    "collapsed": false
   }
  },
  {
   "cell_type": "code",
   "execution_count": 24,
   "outputs": [
    {
     "data": {
      "text/plain": "Index(['y', 'x1', 'x2', 'x3', 'x4', 'c'], dtype='object')"
     },
     "execution_count": 24,
     "metadata": {},
     "output_type": "execute_result"
    }
   ],
   "source": [
    "df.columns"
   ],
   "metadata": {
    "collapsed": false
   }
  },
  {
   "cell_type": "markdown",
   "source": [],
   "metadata": {
    "collapsed": false
   }
  },
  {
   "cell_type": "code",
   "execution_count": 32,
   "outputs": [],
   "source": [
    "T_Independent_Variables = df.drop(['y', 'c'], axis=1)\n",
    "\n",
    "features_list = list(T_Independent_Variables.columns)"
   ],
   "metadata": {
    "collapsed": false
   }
  },
  {
   "cell_type": "code",
   "execution_count": 34,
   "outputs": [
    {
     "data": {
      "text/plain": "array([10.51269165,  9.44340698, 10.92429621,  9.69474542, 10.6702591 ,\n        8.6310664 ,  8.94981555,  9.3830834 , 10.98411767,  9.64846082,\n       11.45544043, 10.08958885,  9.95678344,  9.7763889 ,  9.46389739,\n       10.67079475,  8.76368597, 10.29122375,  8.40181907, 10.32773236,\n        8.29892742,  9.58043913, 11.55653171, 10.49417404, 11.27085563,\n        9.23562422,  9.89744586,  8.89186919, 11.00165327,  9.66404997,\n        9.05935341, 10.19602014, 10.10729666, 10.55183168, 10.29357186,\n        9.62835955,  9.7386339 , 10.81293639,  9.95658923, 10.24550276,\n        8.24153379, 10.98626031,  7.97153356,  9.88717417,  9.37381927,\n       10.06014661, 11.74454434,  9.58539241,  8.91055207,  8.9131957 ,\n        9.35895246, 11.3336302 , 11.30258772,  9.57927423, 10.89409625,\n        8.34545824,  9.14128232, 12.52134972,  9.89498468, 11.70124094,\n       11.36647488,  9.10016704,  9.26682103,  9.05350291,  9.98259905,\n       11.75461654, 10.32967792,  8.5447581 , 10.19377192,  9.7312978 ,\n        9.32303427, 11.58985265,  9.87536242, 10.13386343,  9.66462267,\n        8.94166002, 11.52491933, 10.77155596, 12.13023497, 10.70921567,\n        9.24490418, 10.48550185,  8.44166384,  9.64580175,  8.99592177,\n       10.14717828,  9.16339871, 10.73106784,  8.74333287, 10.41782812,\n       10.09051479,  9.66860396, 10.44413687,  8.88192711, 10.29733251,\n        9.37456322, 11.26523826, 11.43152557,  7.55021882,  8.99072705])"
     },
     "execution_count": 34,
     "metadata": {},
     "output_type": "execute_result"
    }
   ],
   "source": [
    "df[features_list[0]].unique()\n"
   ],
   "metadata": {
    "collapsed": false
   }
  },
  {
   "cell_type": "code",
   "execution_count": null,
   "outputs": [],
   "source": [],
   "metadata": {
    "collapsed": false
   }
  },
  {
   "cell_type": "code",
   "execution_count": null,
   "outputs": [],
   "source": [],
   "metadata": {
    "collapsed": false
   }
  },
  {
   "cell_type": "code",
   "execution_count": null,
   "outputs": [],
   "source": [],
   "metadata": {
    "collapsed": false
   }
  },
  {
   "cell_type": "code",
   "execution_count": null,
   "outputs": [],
   "source": [],
   "metadata": {
    "collapsed": false
   }
  },
  {
   "cell_type": "code",
   "execution_count": null,
   "outputs": [],
   "source": [],
   "metadata": {
    "collapsed": false
   }
  },
  {
   "cell_type": "code",
   "execution_count": null,
   "outputs": [],
   "source": [],
   "metadata": {
    "collapsed": false
   }
  },
  {
   "cell_type": "code",
   "execution_count": null,
   "outputs": [],
   "source": [],
   "metadata": {
    "collapsed": false
   }
  },
  {
   "cell_type": "code",
   "execution_count": null,
   "outputs": [],
   "source": [],
   "metadata": {
    "collapsed": false
   }
  },
  {
   "cell_type": "code",
   "execution_count": null,
   "outputs": [],
   "source": [],
   "metadata": {
    "collapsed": false
   }
  },
  {
   "cell_type": "code",
   "execution_count": null,
   "outputs": [],
   "source": [],
   "metadata": {
    "collapsed": false
   }
  },
  {
   "cell_type": "code",
   "execution_count": null,
   "outputs": [],
   "source": [],
   "metadata": {
    "collapsed": false
   }
  },
  {
   "cell_type": "code",
   "execution_count": null,
   "outputs": [],
   "source": [],
   "metadata": {
    "collapsed": false
   }
  },
  {
   "cell_type": "code",
   "execution_count": null,
   "outputs": [],
   "source": [],
   "metadata": {
    "collapsed": false
   }
  },
  {
   "cell_type": "code",
   "execution_count": null,
   "outputs": [],
   "source": [],
   "metadata": {
    "collapsed": false
   }
  },
  {
   "cell_type": "code",
   "execution_count": null,
   "outputs": [],
   "source": [],
   "metadata": {
    "collapsed": false
   }
  },
  {
   "cell_type": "code",
   "execution_count": null,
   "outputs": [],
   "source": [],
   "metadata": {
    "collapsed": false
   }
  }
 ],
 "metadata": {
  "kernelspec": {
   "display_name": "Python 3",
   "language": "python",
   "name": "python3"
  },
  "language_info": {
   "codemirror_mode": {
    "name": "ipython",
    "version": 2
   },
   "file_extension": ".py",
   "mimetype": "text/x-python",
   "name": "python",
   "nbconvert_exporter": "python",
   "pygments_lexer": "ipython2",
   "version": "2.7.6"
  }
 },
 "nbformat": 4,
 "nbformat_minor": 0
}
